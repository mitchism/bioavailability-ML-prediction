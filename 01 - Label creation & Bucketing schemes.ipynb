{
 "cells": [
  {
   "cell_type": "markdown",
   "id": "474ce7e9",
   "metadata": {},
   "source": [
    "* import data"
   ]
  },
  {
   "cell_type": "code",
   "execution_count": 1,
   "id": "43a301e4",
   "metadata": {},
   "outputs": [],
   "source": [
    "import pandas as pd\n",
    "df = pd.read_csv('hob_data_w_calcs_v3.csv')\n",
    "df = df.drop(columns='Unnamed: 0')"
   ]
  },
  {
   "cell_type": "code",
   "execution_count": 6,
   "id": "94b0768e",
   "metadata": {},
   "outputs": [],
   "source": []
  },
  {
   "cell_type": "markdown",
   "id": "66332b3f",
   "metadata": {},
   "source": [
    "# Data Labeling Schemes"
   ]
  },
  {
   "cell_type": "markdown",
   "id": "8dad6f34",
   "metadata": {},
   "source": [
    "### visual comparison of binning schemes"
   ]
  },
  {
   "cell_type": "markdown",
   "id": "7c560b4b",
   "metadata": {},
   "source": [
    "* plot various histograms to decide on good distributions to discretize BA_pct into categorical levels"
   ]
  },
  {
   "cell_type": "code",
   "execution_count": 7,
   "id": "e62208a2",
   "metadata": {},
   "outputs": [],
   "source": [
    "import matplotlib.pyplot as plt"
   ]
  },
  {
   "cell_type": "code",
   "execution_count": 16,
   "id": "65abac62",
   "metadata": {},
   "outputs": [
    {
     "data": {
      "text/plain": [
       "(array([531., 421., 636.]),\n",
       " array([  0.        ,  33.33333333,  66.66666667, 100.        ]),\n",
       " <BarContainer object of 3 artists>)"
      ]
     },
     "execution_count": 16,
     "metadata": {},
     "output_type": "execute_result"
    },
    {
     "data": {
      "image/png": "[encoded data removed]",
      "text/plain": [
       "<Figure size 432x288 with 1 Axes>"
      ]
     },
     "metadata": {
      "needs_background": "light"
     },
     "output_type": "display_data"
    }
   ],
   "source": [
    "# 3 bins could work\n",
    "plt.hist(df['BA_pct'],bins=3)"
   ]
  },
  {
   "cell_type": "code",
   "execution_count": 9,
   "id": "ed9cc84a",
   "metadata": {},
   "outputs": [
    {
     "data": {
      "text/plain": [
       "<matplotlib.collections.LineCollection at 0x7f135961f580>"
      ]
     },
     "execution_count": 9,
     "metadata": {},
     "output_type": "execute_result"
    },
    {
     "data": {
      "image/png": "[encoded data removed]",
      "text/plain": [
       "<Figure size 432x288 with 1 Axes>"
      ]
     },
     "metadata": {
      "needs_background": "light"
     },
     "output_type": "display_data"
    }
   ],
   "source": [
    "# also like 5 bins\n",
    "fig,ax = plt.subplots()\n",
    "numBins = 5\n",
    "ax.hist(df['BA_pct'],bins=numBins)\n",
    "ax.set_title(f'BA distrib.,{numBins} bins',fontsize='small')\n",
    "ax.vlines(range(0,100,int(100/numBins)),0,500,color='red')"
   ]
  },
  {
   "cell_type": "code",
   "execution_count": 10,
   "id": "70d0d942",
   "metadata": {},
   "outputs": [
    {
     "data": {
      "text/plain": [
       "<matplotlib.collections.LineCollection at 0x7f135966e5c0>"
      ]
     },
     "execution_count": 10,
     "metadata": {},
     "output_type": "execute_result"
    },
    {
     "data": {
      "image/png": "[encoded data removed]",
      "text/plain": [
       "<Figure size 432x288 with 1 Axes>"
      ]
     },
     "metadata": {
      "needs_background": "light"
     },
     "output_type": "display_data"
    }
   ],
   "source": [
    "# or 5 bins with uneven distribution\n",
    "fig,ax = plt.subplots()\n",
    "numBins = 5\n",
    "ax.hist(df['BA_pct'],bins=numBins)\n",
    "ax.set_title(f'BA distrib.,{numBins} bins',fontsize='small')\n",
    "ax.vlines([0,12.5,32,68,87.5,100],0,500,color='red')"
   ]
  },
  {
   "cell_type": "code",
   "execution_count": 11,
   "id": "8057fbc2",
   "metadata": {},
   "outputs": [
    {
     "data": {
      "text/plain": [
       "<matplotlib.collections.LineCollection at 0x7f13596e23b0>"
      ]
     },
     "execution_count": 11,
     "metadata": {},
     "output_type": "execute_result"
    },
    {
     "data": {
      "image/png": "[encoded data removed]",
      "text/plain": [
       "<Figure size 432x288 with 1 Axes>"
      ]
     },
     "metadata": {
      "needs_background": "light"
     },
     "output_type": "display_data"
    }
   ],
   "source": [
    "# also like 5 bins\n",
    "fig,ax = plt.subplots()\n",
    "numBins = 5\n",
    "ax.hist(df['BA_pct'],bins=numBins)\n",
    "ax.set_title(f'BA distrib.,{numBins} bins',fontsize='small')\n",
    "ax.vlines([0,15,50,85,100],0,500,color='red')"
   ]
  },
  {
   "cell_type": "markdown",
   "id": "c6f2347c",
   "metadata": {},
   "source": [
    "### statistical comparison of binning shchemes"
   ]
  },
  {
   "cell_type": "markdown",
   "id": "29dce2bd",
   "metadata": {},
   "source": [
    "* apply tentative BA labels based on review of histograms (above) \n",
    "* assess label quality using group/aggregate to view stats"
   ]
  },
  {
   "cell_type": "code",
   "execution_count": 12,
   "id": "ad966067",
   "metadata": {},
   "outputs": [
    {
     "data": {
      "text/html": [
       "<div>\n",
       "<style scoped>\n",
       "    .dataframe tbody tr th:only-of-type {\n",
       "        vertical-align: middle;\n",
       "    }\n",
       "\n",
       "    .dataframe tbody tr th {\n",
       "        vertical-align: top;\n",
       "    }\n",
       "\n",
       "    .dataframe thead tr th {\n",
       "        text-align: left;\n",
       "    }\n",
       "\n",
       "    .dataframe thead tr:last-of-type th {\n",
       "        text-align: right;\n",
       "    }\n",
       "</style>\n",
       "<table border=\"1\" class=\"dataframe\">\n",
       "  <thead>\n",
       "    <tr>\n",
       "      <th></th>\n",
       "      <th colspan=\"3\" halign=\"left\">BA_pct</th>\n",
       "    </tr>\n",
       "    <tr>\n",
       "      <th></th>\n",
       "      <th>count</th>\n",
       "      <th>mean</th>\n",
       "      <th>std</th>\n",
       "    </tr>\n",
       "    <tr>\n",
       "      <th>label1</th>\n",
       "      <th></th>\n",
       "      <th></th>\n",
       "      <th></th>\n",
       "    </tr>\n",
       "  </thead>\n",
       "  <tbody>\n",
       "    <tr>\n",
       "      <th>high</th>\n",
       "      <td>636</td>\n",
       "      <td>85.583333</td>\n",
       "      <td>9.714271</td>\n",
       "    </tr>\n",
       "    <tr>\n",
       "      <th>low</th>\n",
       "      <td>531</td>\n",
       "      <td>11.764878</td>\n",
       "      <td>10.665971</td>\n",
       "    </tr>\n",
       "    <tr>\n",
       "      <th>moderate</th>\n",
       "      <td>421</td>\n",
       "      <td>50.356532</td>\n",
       "      <td>8.445314</td>\n",
       "    </tr>\n",
       "  </tbody>\n",
       "</table>\n",
       "</div>"
      ],
      "text/plain": [
       "         BA_pct                      \n",
       "          count       mean        std\n",
       "label1                               \n",
       "high        636  85.583333   9.714271\n",
       "low         531  11.764878  10.665971\n",
       "moderate    421  50.356532   8.445314"
      ]
     },
     "execution_count": 12,
     "metadata": {},
     "output_type": "execute_result"
    }
   ],
   "source": [
    "splits1 = [x for x in range(0,100,int(100/3))]\n",
    "\n",
    "df.loc[(df['BA_pct'] <= splits1[1]),'label1'] = 'low'\n",
    "df.loc[(df['BA_pct'] > splits1[1])&(df['BA_pct'] <= splits1[2]),'label1'] = 'moderate'\n",
    "df.loc[(df['BA_pct'] > splits1[2]),'label1'] = 'high'\n",
    "\n",
    "df.groupby('label1').agg({'BA_pct':['count','mean','std']})"
   ]
  },
  {
   "cell_type": "code",
   "execution_count": 13,
   "id": "81977d3c",
   "metadata": {},
   "outputs": [
    {
     "data": {
      "text/html": [
       "<div>\n",
       "<style scoped>\n",
       "    .dataframe tbody tr th:only-of-type {\n",
       "        vertical-align: middle;\n",
       "    }\n",
       "\n",
       "    .dataframe tbody tr th {\n",
       "        vertical-align: top;\n",
       "    }\n",
       "\n",
       "    .dataframe thead tr th {\n",
       "        text-align: left;\n",
       "    }\n",
       "\n",
       "    .dataframe thead tr:last-of-type th {\n",
       "        text-align: right;\n",
       "    }\n",
       "</style>\n",
       "<table border=\"1\" class=\"dataframe\">\n",
       "  <thead>\n",
       "    <tr>\n",
       "      <th></th>\n",
       "      <th colspan=\"3\" halign=\"left\">BA_pct</th>\n",
       "    </tr>\n",
       "    <tr>\n",
       "      <th></th>\n",
       "      <th>count</th>\n",
       "      <th>mean</th>\n",
       "      <th>std</th>\n",
       "    </tr>\n",
       "    <tr>\n",
       "      <th>label2a</th>\n",
       "      <th></th>\n",
       "      <th></th>\n",
       "      <th></th>\n",
       "    </tr>\n",
       "  </thead>\n",
       "  <tbody>\n",
       "    <tr>\n",
       "      <th>high</th>\n",
       "      <td>317</td>\n",
       "      <td>74.850158</td>\n",
       "      <td>5.541167</td>\n",
       "    </tr>\n",
       "    <tr>\n",
       "      <th>low</th>\n",
       "      <td>216</td>\n",
       "      <td>27.371296</td>\n",
       "      <td>5.868030</td>\n",
       "    </tr>\n",
       "    <tr>\n",
       "      <th>moderate</th>\n",
       "      <td>339</td>\n",
       "      <td>50.725959</td>\n",
       "      <td>6.169008</td>\n",
       "    </tr>\n",
       "    <tr>\n",
       "      <th>very high</th>\n",
       "      <td>356</td>\n",
       "      <td>92.957865</td>\n",
       "      <td>5.491188</td>\n",
       "    </tr>\n",
       "    <tr>\n",
       "      <th>very low</th>\n",
       "      <td>360</td>\n",
       "      <td>5.415139</td>\n",
       "      <td>5.785194</td>\n",
       "    </tr>\n",
       "  </tbody>\n",
       "</table>\n",
       "</div>"
      ],
      "text/plain": [
       "          BA_pct                     \n",
       "           count       mean       std\n",
       "label2a                              \n",
       "high         317  74.850158  5.541167\n",
       "low          216  27.371296  5.868030\n",
       "moderate     339  50.725959  6.169008\n",
       "very high    356  92.957865  5.491188\n",
       "very low     360   5.415139  5.785194"
      ]
     },
     "execution_count": 13,
     "metadata": {},
     "output_type": "execute_result"
    }
   ],
   "source": [
    "## ONE OF THE TWO BEST\n",
    "splits2 = [0,19,38,62,81,100]\n",
    "\n",
    "df.loc[(df['BA_pct'] <= splits2[1]),'label2a'] = 'very low'\n",
    "df.loc[(df['BA_pct'] > splits2[1])&(df['BA_pct'] <= splits2[2]),'label2a'] = 'low'\n",
    "df.loc[(df['BA_pct'] > splits2[2])&(df['BA_pct'] <= splits2[3]),'label2a'] = 'moderate'\n",
    "df.loc[(df['BA_pct'] > splits2[3])&(df['BA_pct'] <= splits2[4]),'label2a'] = 'high'\n",
    "df.loc[(df['BA_pct'] > splits2[4]),'label2a'] = 'very high'\n",
    "\n",
    "df.groupby('label2a').agg({'BA_pct':['count','mean','std']})"
   ]
  },
  {
   "cell_type": "code",
   "execution_count": 14,
   "id": "a8fcdf61",
   "metadata": {},
   "outputs": [
    {
     "data": {
      "text/html": [
       "<div>\n",
       "<style scoped>\n",
       "    .dataframe tbody tr th:only-of-type {\n",
       "        vertical-align: middle;\n",
       "    }\n",
       "\n",
       "    .dataframe tbody tr th {\n",
       "        vertical-align: top;\n",
       "    }\n",
       "\n",
       "    .dataframe thead tr th {\n",
       "        text-align: left;\n",
       "    }\n",
       "\n",
       "    .dataframe thead tr:last-of-type th {\n",
       "        text-align: right;\n",
       "    }\n",
       "</style>\n",
       "<table border=\"1\" class=\"dataframe\">\n",
       "  <thead>\n",
       "    <tr>\n",
       "      <th></th>\n",
       "      <th colspan=\"3\" halign=\"left\">BA_pct</th>\n",
       "    </tr>\n",
       "    <tr>\n",
       "      <th></th>\n",
       "      <th>count</th>\n",
       "      <th>mean</th>\n",
       "      <th>std</th>\n",
       "    </tr>\n",
       "    <tr>\n",
       "      <th>label2b</th>\n",
       "      <th></th>\n",
       "      <th></th>\n",
       "      <th></th>\n",
       "    </tr>\n",
       "  </thead>\n",
       "  <tbody>\n",
       "    <tr>\n",
       "      <th>high</th>\n",
       "      <td>332</td>\n",
       "      <td>74.751506</td>\n",
       "      <td>5.833606</td>\n",
       "    </tr>\n",
       "    <tr>\n",
       "      <th>low</th>\n",
       "      <td>222</td>\n",
       "      <td>27.322973</td>\n",
       "      <td>6.002312</td>\n",
       "    </tr>\n",
       "    <tr>\n",
       "      <th>moderate</th>\n",
       "      <td>330</td>\n",
       "      <td>50.557879</td>\n",
       "      <td>5.960637</td>\n",
       "    </tr>\n",
       "    <tr>\n",
       "      <th>very high</th>\n",
       "      <td>348</td>\n",
       "      <td>93.209770</td>\n",
       "      <td>5.293051</td>\n",
       "    </tr>\n",
       "    <tr>\n",
       "      <th>very low</th>\n",
       "      <td>356</td>\n",
       "      <td>5.263904</td>\n",
       "      <td>5.637445</td>\n",
       "    </tr>\n",
       "  </tbody>\n",
       "</table>\n",
       "</div>"
      ],
      "text/plain": [
       "          BA_pct                     \n",
       "           count       mean       std\n",
       "label2b                              \n",
       "high         332  74.751506  5.833606\n",
       "low          222  27.322973  6.002312\n",
       "moderate     330  50.557879  5.960637\n",
       "very high    348  93.209770  5.293051\n",
       "very low     356   5.263904  5.637445"
      ]
     },
     "execution_count": 14,
     "metadata": {},
     "output_type": "execute_result"
    }
   ],
   "source": [
    "## ONE OF THE TWO BEST\n",
    "splits2 = [0,18,39,61,82,100]\n",
    "\n",
    "df.loc[(df['BA_pct'] <= splits2[1]),'label2b'] = 'very low'\n",
    "df.loc[(df['BA_pct'] > splits2[1])&(df['BA_pct'] <= splits2[2]),'label2b'] = 'low'\n",
    "df.loc[(df['BA_pct'] > splits2[2])&(df['BA_pct'] <= splits2[3]),'label2b'] = 'moderate'\n",
    "df.loc[(df['BA_pct'] > splits2[3])&(df['BA_pct'] <= splits2[4]),'label2b'] = 'high'\n",
    "df.loc[(df['BA_pct'] > splits2[4]),'label2b'] = 'very high'\n",
    "\n",
    "df.groupby('label2b').agg({'BA_pct':['count','mean','std']})"
   ]
  },
  {
   "cell_type": "code",
   "execution_count": 15,
   "id": "fcc32f31",
   "metadata": {},
   "outputs": [
    {
     "data": {
      "text/html": [
       "<div>\n",
       "<style scoped>\n",
       "    .dataframe tbody tr th:only-of-type {\n",
       "        vertical-align: middle;\n",
       "    }\n",
       "\n",
       "    .dataframe tbody tr th {\n",
       "        vertical-align: top;\n",
       "    }\n",
       "\n",
       "    .dataframe thead tr th {\n",
       "        text-align: left;\n",
       "    }\n",
       "\n",
       "    .dataframe thead tr:last-of-type th {\n",
       "        text-align: right;\n",
       "    }\n",
       "</style>\n",
       "<table border=\"1\" class=\"dataframe\">\n",
       "  <thead>\n",
       "    <tr>\n",
       "      <th></th>\n",
       "      <th colspan=\"3\" halign=\"left\">BA_pct</th>\n",
       "    </tr>\n",
       "    <tr>\n",
       "      <th></th>\n",
       "      <th>count</th>\n",
       "      <th>mean</th>\n",
       "      <th>std</th>\n",
       "    </tr>\n",
       "    <tr>\n",
       "      <th>label3</th>\n",
       "      <th></th>\n",
       "      <th></th>\n",
       "      <th></th>\n",
       "    </tr>\n",
       "  </thead>\n",
       "  <tbody>\n",
       "    <tr>\n",
       "      <th>high</th>\n",
       "      <td>432</td>\n",
       "      <td>69.940046</td>\n",
       "      <td>9.229638</td>\n",
       "    </tr>\n",
       "    <tr>\n",
       "      <th>low</th>\n",
       "      <td>389</td>\n",
       "      <td>39.324422</td>\n",
       "      <td>9.825776</td>\n",
       "    </tr>\n",
       "    <tr>\n",
       "      <th>very high</th>\n",
       "      <td>361</td>\n",
       "      <td>92.792244</td>\n",
       "      <td>5.629638</td>\n",
       "    </tr>\n",
       "    <tr>\n",
       "      <th>very low</th>\n",
       "      <td>406</td>\n",
       "      <td>7.066379</td>\n",
       "      <td>7.145556</td>\n",
       "    </tr>\n",
       "  </tbody>\n",
       "</table>\n",
       "</div>"
      ],
      "text/plain": [
       "          BA_pct                     \n",
       "           count       mean       std\n",
       "label3                               \n",
       "high         432  69.940046  9.229638\n",
       "low          389  39.324422  9.825776\n",
       "very high    361  92.792244  5.629638\n",
       "very low     406   7.066379  7.145556"
      ]
     },
     "execution_count": 15,
     "metadata": {},
     "output_type": "execute_result"
    }
   ],
   "source": [
    "splits3 = [0,20,50,80,100]\n",
    "df.loc[(df['BA_pct'] <= splits3[1]),'label3'] = 'very low'\n",
    "df.loc[(df['BA_pct'] > splits3[1])&(df['BA_pct'] <= splits3[2]),'label3'] = 'low'\n",
    "df.loc[(df['BA_pct'] > splits3[2])&(df['BA_pct'] <= splits3[3]),'label3'] = 'high'\n",
    "df.loc[(df['BA_pct'] > splits3[3]),'label3'] = 'very high'\n",
    "\n",
    "df.groupby('label3').agg({'BA_pct':['count','mean','std']})"
   ]
  },
  {
   "cell_type": "markdown",
   "id": "d9f5561a",
   "metadata": {},
   "source": [
    "* with several comparisons, final label scheme decided. \n",
    "* re-load data, and apply final labeling schemes"
   ]
  },
  {
   "cell_type": "code",
   "execution_count": 2,
   "id": "b65f15e8",
   "metadata": {},
   "outputs": [],
   "source": [
    "df = pd.read_csv('hob_data_w_calcs_v3.csv')\n",
    "df = df.drop(columns='Unnamed: 0')\n",
    "\n",
    "# Labels 1\n",
    "splits1 = [x for x in range(0,100,int(100/3))]\n",
    "\n",
    "df.loc[(df['BA_pct'] <= splits1[1]),'label1'] = 'low'\n",
    "df.loc[(df['BA_pct'] > splits1[1])&(df['BA_pct'] <= splits1[2]),'label1'] = 'moderate'\n",
    "df.loc[(df['BA_pct'] > splits1[2]),'label1'] = 'high'\n",
    "\n",
    "#df.groupby('label1').agg({'BA_pct':['count','mean','std']})\n",
    "\n",
    "\n",
    "# Labels 2\n",
    "splits3 = [0,20,50,80,100]\n",
    "df.loc[(df['BA_pct'] <= splits3[1]),'label2'] = 'very low'\n",
    "df.loc[(df['BA_pct'] > splits3[1])&(df['BA_pct'] <= splits3[2]),'label2'] = 'low'\n",
    "df.loc[(df['BA_pct'] > splits3[2])&(df['BA_pct'] <= splits3[3]),'label2'] = 'high'\n",
    "df.loc[(df['BA_pct'] > splits3[3]),'label2'] = 'very high'\n",
    "\n",
    "#df.groupby('label2').agg({'BA_pct':['count','mean','std']})\n",
    "\n",
    "\n",
    "# Labels 3a\n",
    "splits2 = [0,19,38,62,81,100]\n",
    "\n",
    "df.loc[(df['BA_pct'] <= splits2[1]),'label3a'] = 'very low'\n",
    "df.loc[(df['BA_pct'] > splits2[1])&(df['BA_pct'] <= splits2[2]),'label3a'] = 'low'\n",
    "df.loc[(df['BA_pct'] > splits2[2])&(df['BA_pct'] <= splits2[3]),'label3a'] = 'moderate'\n",
    "df.loc[(df['BA_pct'] > splits2[3])&(df['BA_pct'] <= splits2[4]),'label3a'] = 'high'\n",
    "df.loc[(df['BA_pct'] > splits2[4]),'label3a'] = 'very high'\n",
    "\n",
    "#df.groupby('label3a').agg({'BA_pct':['count','mean','std']})\n",
    "\n",
    "# Labels 3b\n",
    "splits2 = [0,18,39,61,82,100]\n",
    "\n",
    "df.loc[(df['BA_pct'] <= splits2[1]),'label3b'] = 'very low'\n",
    "df.loc[(df['BA_pct'] > splits2[1])&(df['BA_pct'] <= splits2[2]),'label3b'] = 'low'\n",
    "df.loc[(df['BA_pct'] > splits2[2])&(df['BA_pct'] <= splits2[3]),'label3b'] = 'moderate'\n",
    "df.loc[(df['BA_pct'] > splits2[3])&(df['BA_pct'] <= splits2[4]),'label3b'] = 'high'\n",
    "df.loc[(df['BA_pct'] > splits2[4]),'label3b'] = 'very high'\n",
    "\n",
    "#df.groupby('label3b').agg({'BA_pct':['count','mean','std']})"
   ]
  },
  {
   "cell_type": "markdown",
   "id": "d1ec6964",
   "metadata": {},
   "source": [
    "## Recap\n",
    "* <font color='gray'> Regarding data labels, recall that: </font>\n",
    "  * <font color='gray'> The data has 5 labels: </font>\n",
    "      *  <font color='gray'> **1 continuous label:** the BA percentage (_the original label_) </font> \n",
    "      *  <font color='gray'>**4 categorical labels:** the discretized groups of BA percentage </font> <br>\n",
    "  * <font color='gray'> The categorical label columns were created by dividing _BA percentage_ into groups. The _\"bucketing\"/discretization ranges_ for these divisions were determined based on the review of histogram distributions and label statistics (_e.g.,_ grouped label mean & stdev) </font>"
   ]
  },
  {
   "cell_type": "markdown",
   "id": "657a172c",
   "metadata": {},
   "source": [
    "### One additional label, Spark built-in method"
   ]
  },
  {
   "cell_type": "markdown",
   "id": "84220448",
   "metadata": {},
   "source": [
    "* for comparison with the manually-labeled categorical columns, an additional categorical label column will be added using Spark's built-in **QuantileDiscretizer**"
   ]
  },
  {
   "cell_type": "code",
   "execution_count": null,
   "id": "d1860e12",
   "metadata": {},
   "outputs": [],
   "source": [
    "from pyspark.ml.feature import QuantileDiscretizer\n",
    "import pandas as pd\n",
    "qd5 = QuantileDiscretizer(numBuckets=5,inputCol='BA_pct',outputCol='label_QD5')\n",
    "data = qd5.fit(data).transform(data)"
   ]
  },
  {
   "cell_type": "markdown",
   "id": "afeaa51c",
   "metadata": {},
   "source": [
    "## Summary: Final labeling scheme\n",
    "* <font color='blue'> _For a quick review of all data labels, let's display them in a grouped DF:_ </font>"
   ]
  },
  {
   "cell_type": "code",
   "execution_count": null,
   "id": "4764ff43",
   "metadata": {},
   "outputs": [],
   "source": [
    "''' # FINAL LABELS:\n",
    "# ...1 continuous label column\n",
    "# ...5 categorical label columns\n",
    "# ---- label1 has 3 categories          -->                     low   /  mid   / high \n",
    "# ---- label2 has 4 categories          -->          very low / low       /      high / very high\n",
    "# ---- the rest have 5 categories       -->          very low / low / moderate / high / very high\n",
    "'''\n",
    "from pyspark.sql import functions as F\n",
    "\n",
    "data.select(['BA_pct','label_QD5','label1','label2','label3a','label3b'])\\\n",
    "                .groupby('label_QD5','label3a','label3b','label2','label1')\\\n",
    "                    .agg(F.count('BA_pct'),F.min('BA_pct'),F.max('BA_pct'))\\\n",
    "                        .orderBy('max(BA_pct)')\\\n",
    "                            .show()"
   ]
  },
  {
   "cell_type": "markdown",
   "id": "2713ad62",
   "metadata": {},
   "source": [
    "# Export labeled data"
   ]
  },
  {
   "cell_type": "markdown",
   "id": "8409b3ad",
   "metadata": {},
   "source": [
    "* clean up and export"
   ]
  },
  {
   "cell_type": "code",
   "execution_count": 3,
   "id": "2e35cd53",
   "metadata": {},
   "outputs": [],
   "source": [
    "df.to_csv('bioavailability_data_final.csv')"
   ]
  },
  {
   "cell_type": "markdown",
   "id": "6dc8caf9",
   "metadata": {},
   "source": [
    "* OPTIONAL: we can also make an excel file with molecular structure images in columns"
   ]
  },
  {
   "cell_type": "code",
   "execution_count": null,
   "id": "5d0c77f6",
   "metadata": {},
   "outputs": [],
   "source": [
    "from rdkit.Chem import PandasTools\n",
    "import xlsxwriter\n",
    "\n",
    "viztest = df.copy()\n",
    "PandasTools.AddMoleculeColumnToFrame(viztest,smilesCol='smile',molCol='structure',includeFingerprints=False)\n",
    "\n",
    "# original order\n",
    "PandasTools.SaveXlsxFromFrame(viztest, 'bioavailability_data_final_withStructures.xlsx', molCol='structure',size=(64,64))\n",
    "\n",
    "# alphabetized by drug name\n",
    "viztest_sorted = viztest.sort_values(by=['Name'])\n",
    "PandasTools.SaveXlsxFromFrame(viztest_sorted, 'bioavailability_data_final_withStructures_sorted.xlsx', molCol='structure',size=(64,64))"
   ]
  }
 ],
 "metadata": {
  "kernelspec": {
   "display_name": "Python 3 (ipykernel)",
   "language": "python",
   "name": "python3"
  },
  "language_info": {
   "codemirror_mode": {
    "name": "ipython",
    "version": 3
   },
   "file_extension": ".py",
   "mimetype": "text/x-python",
   "name": "python",
   "nbconvert_exporter": "python",
   "pygments_lexer": "ipython3",
   "version": "3.9.7"
  }
 },
 "nbformat": 4,
 "nbformat_minor": 5
}
