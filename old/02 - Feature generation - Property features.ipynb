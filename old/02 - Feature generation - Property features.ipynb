{
 "cells": [
  {
   "cell_type": "markdown",
   "id": "a72d90e9",
   "metadata": {},
   "source": [
    "* import data"
   ]
  },
  {
   "cell_type": "code",
   "execution_count": null,
   "id": "a5755b5b",
   "metadata": {},
   "outputs": [],
   "source": [
    "data = pd.read_csv('hob_data_set_MSMcleanup.csv')"
   ]
  },
  {
   "cell_type": "markdown",
   "id": "15d24fdd",
   "metadata": {},
   "source": [
    "# RDKit descriptors\n",
    "* add descriptor calculations"
   ]
  },
  {
   "cell_type": "code",
   "execution_count": null,
   "id": "549d7f4a",
   "metadata": {},
   "outputs": [],
   "source": [
    "# we generate a list of all available metrics for view as follows\n",
    "from rdkit import Chem\n",
    "from rdkit.Chem import Descriptors\n",
    "from rdkit.Chem.Descriptors import *\n",
    "\n",
    "metric_list = Descriptors._descList"
   ]
  },
  {
   "cell_type": "code",
   "execution_count": null,
   "id": "7c166c9b",
   "metadata": {},
   "outputs": [],
   "source": [
    "# after deciding which metrics we wish to use, we'll list them here\n",
    "metrics_to_add = ['MolWt','ExactMolWt','qed','MolLogP','LabuteASA','TPSA',\n",
    "                  'MaxPartialCharge','MinPartialCharge','MaxAbsPartialCharge','MinAbsPartialCharge',\n",
    "                  'NumHAcceptors','NumHDonors','HeavyAtomCount','NumHeteroatoms','NumRotatableBonds',\n",
    "                  'NHOHCount','NOCount','FractionCSP3','RingCount','NumAliphaticRings',\n",
    "                  'NumAromaticRings','NumAliphaticHeterocycles','NumAromaticHeterocycles','NumSaturatedHeterocycles',\n",
    "                  'NumSaturatedRings','MolMR','BalabanJ','BertzCT','HallKierAlpha','PEOE_VSA1','PEOE_VSA2','PEOE_VSA3',\n",
    "                  'PEOE_VSA4','PEOE_VSA5','PEOE_VSA6','PEOE_VSA7','PEOE_VSA8','PEOE_VSA9','PEOE_VSA10','PEOE_VSA11',\n",
    "                  'PEOE_VSA12','PEOE_VSA13','PEOE_VSA14','SMR_VSA1','SMR_VSA2','SMR_VSA3','SMR_VSA4','SMR_VSA5',\n",
    "                  'SMR_VSA6','SMR_VSA7','SMR_VSA8','SMR_VSA9','SMR_VSA10','SlogP_VSA1','SlogP_VSA2','SlogP_VSA3',\n",
    "                  'SlogP_VSA4','SlogP_VSA5','SlogP_VSA6','SlogP_VSA7','SlogP_VSA8','SlogP_VSA9','SlogP_VSA10',\n",
    "                  'SlogP_VSA11','SlogP_VSA12']"
   ]
  },
  {
   "cell_type": "code",
   "execution_count": null,
   "id": "49d44ee8",
   "metadata": {},
   "outputs": [],
   "source": [
    "# create dictionary of rdkit calculations, to call the functions using their title\n",
    "metric_dict = {}\n",
    "for item in metric_list:\n",
    "    metric_dict[item[0]] = item[1]\n",
    "metric_dict.keys()"
   ]
  },
  {
   "cell_type": "code",
   "execution_count": null,
   "id": "7eac2aaa",
   "metadata": {},
   "outputs": [],
   "source": [
    "# now we can actually add the descriptor calculations to the data\n",
    "df = pd.read_csv('hob_data_set_MSMcleanup.csv')\n",
    "\n",
    "for index,row in df.iterrows():\n",
    "    drugname = df.loc[index,'Name']\n",
    "    drugSMILES = df.loc[index,'smile']\n",
    "    drugmol = Chem.MolFromSmiles(drugSMILES)\n",
    "    \n",
    "    for metric in metrics_to_add:\n",
    "        function = metric_dict[metric]\n",
    "        \n",
    "        result = function(drugmol)\n",
    "        \n",
    "        df.loc[index,metric] = result"
   ]
  },
  {
   "cell_type": "markdown",
   "id": "8bb91d5d",
   "metadata": {},
   "source": [
    "* some of the metrics we've added provide amount of the drug's surface area (SA) having a given property within a certain range\n",
    "  * the full possible range of values for a property are divided into 10-14 subranges\n",
    "  * the metric tells you the amount of surface area for which that property's value lies within that subrange\n",
    "  * thus, if you add together all 10-14 subranges of a \"VSA\" metric, you get the molecule's total surface area\n",
    "* I would like to test whether it would be more relevant to describe instead the percentage of SA fitting that property range\n",
    "* thus, here I will create 'percent SA' alternatives for each \"VSA\" metric"
   ]
  },
  {
   "cell_type": "code",
   "execution_count": null,
   "id": "f5da5fab",
   "metadata": {},
   "outputs": [],
   "source": [
    "# list all VSA type of metrics\n",
    "VSAs = ['PEOE_VSA1','PEOE_VSA2','PEOE_VSA3','PEOE_VSA4','PEOE_VSA5','PEOE_VSA6','PEOE_VSA7',\n",
    "        'PEOE_VSA8','PEOE_VSA9','PEOE_VSA10','PEOE_VSA11','PEOE_VSA12','PEOE_VSA13','PEOE_VSA14',\n",
    "        'SMR_VSA1','SMR_VSA2','SMR_VSA3','SMR_VSA4','SMR_VSA5','SMR_VSA6','SMR_VSA7','SMR_VSA8',\n",
    "        'SMR_VSA9','SMR_VSA10','SlogP_VSA1','SlogP_VSA2','SlogP_VSA3','SlogP_VSA4','SlogP_VSA5',\n",
    "        'SlogP_VSA6','SlogP_VSA7','SlogP_VSA8','SlogP_VSA9','SlogP_VSA10','SlogP_VSA11','SlogP_VSA12']\n",
    "\n",
    "# list just one VSA metric, which can be summed for total surface area\n",
    "SMR_VSA = ['SMR_VSA1','SMR_VSA2','SMR_VSA3','SMR_VSA4','SMR_VSA5','SMR_VSA6','SMR_VSA7','SMR_VSA8','SMR_VSA9','SMR_VSA10']\n",
    "\n",
    "for index,row in df.iterrows():\n",
    "    drugname = df.loc[index,'Name']\n",
    "    drugSMILES = df.loc[index,'smile']\n",
    "    drugmol = Chem.MolFromSmiles(drugSMILES)\n",
    "    \n",
    "    # get the total SA for molecule\n",
    "    totalVSA = 0\n",
    "    for VSA_i in SMR_VSA: \n",
    "        totalVSA += df.loc[index,VSA_i]\n",
    "    df.loc[index,'VSA_total'] = totalVSA\n",
    "    \n",
    "    # express all VSA metrics in Percentage of total SA\n",
    "    for each_VSA in VSAs:\n",
    "        # lookup absolute value of each VSA metric\n",
    "        VSA_x = df.loc[index,each_VSA]\n",
    "        \n",
    "        # derive new name for VSA percentage column\n",
    "        if each_VSA[-2].isdigit():\n",
    "            num = f\"{each_VSA[-2]}{each_VSA[-1]}\"\n",
    "        else:\n",
    "            num = f\"0{each_VSA[-1]}\"\n",
    "        titleindex = each_VSA.index('_')\n",
    "        title = each_VSA[0:titleindex]\n",
    "        new_column_name = 'fracVSA_'+title+num\n",
    "        \n",
    "        # store value of relative percent VSA for each VSA metric\n",
    "        df.loc[index,new_column_name] = (VSA_x/totalVSA)"
   ]
  },
  {
   "cell_type": "markdown",
   "id": "047b09f9",
   "metadata": {},
   "source": [
    "* clean up and export"
   ]
  },
  {
   "cell_type": "code",
   "execution_count": null,
   "id": "9d9779fe",
   "metadata": {},
   "outputs": [],
   "source": [
    "# rename bioavailability column to short title\n",
    "df = df.rename(columns={'value (oral BA %)':'BA_pct'})\n",
    "\n",
    "# list of all current columns\n",
    "all_columns = ['Name','smile','BA_pct','MolWt','ExactMolWt','qed','MolLogP','LabuteASA','TPSA','MaxPartialCharge','MinPartialCharge','MaxAbsPartialCharge','MinAbsPartialCharge','NumHAcceptors','NumHDonors','HeavyAtomCount','NumHeteroatoms','NumRotatableBonds','NHOHCount','NOCount','FractionCSP3','RingCount','NumAliphaticRings','NumAromaticRings','NumAliphaticHeterocycles','NumAromaticHeterocycles','NumSaturatedHeterocycles','NumSaturatedRings','MolMR','BalabanJ','BertzCT','HallKierAlpha','PEOE_VSA1','PEOE_VSA2','PEOE_VSA3','PEOE_VSA4','PEOE_VSA5','PEOE_VSA6','PEOE_VSA7','PEOE_VSA8','PEOE_VSA9','PEOE_VSA10','PEOE_VSA11','PEOE_VSA12','PEOE_VSA13','PEOE_VSA14','SMR_VSA1','SMR_VSA2','SMR_VSA3','SMR_VSA4','SMR_VSA5','SMR_VSA6','SMR_VSA7','SMR_VSA8','SMR_VSA9','SMR_VSA10','SlogP_VSA1','SlogP_VSA2','SlogP_VSA3','SlogP_VSA4','SlogP_VSA5','SlogP_VSA6','SlogP_VSA7','SlogP_VSA8','SlogP_VSA9','SlogP_VSA10','SlogP_VSA11','SlogP_VSA12','PEOE_VSA1','PEOE_VSA2','PEOE_VSA3','PEOE_VSA4','PEOE_VSA5','PEOE_VSA6','PEOE_VSA7','PEOE_VSA8','PEOE_VSA9','PEOE_VSA10','PEOE_VSA11','PEOE_VSA12','PEOE_VSA13','PEOE_VSA14','SMR_VSA1','SMR_VSA2','SMR_VSA3','SMR_VSA4','SMR_VSA5','SMR_VSA6','SMR_VSA7','SMR_VSA8','SMR_VSA9','SMR_VSA10','SlogP_VSA1','SlogP_VSA2','SlogP_VSA3','SlogP_VSA4','SlogP_VSA5','SlogP_VSA6','SlogP_VSA7','SlogP_VSA8','SlogP_VSA9','SlogP_VSA10','SlogP_VSA11','SlogP_VSA12','fracVSA_PEOE01','fracVSA_PEOE02','fracVSA_PEOE03','fracVSA_PEOE04','fracVSA_PEOE05','fracVSA_PEOE06','fracVSA_PEOE07','fracVSA_PEOE08','fracVSA_PEOE09','fracVSA_PEOE10','fracVSA_PEOE11','fracVSA_PEOE12','fracVSA_PEOE13','fracVSA_PEOE14','fracVSA_SMR01','fracVSA_SMR02','fracVSA_SMR03','fracVSA_SMR04','fracVSA_SMR05','fracVSA_SMR06','fracVSA_SMR07','fracVSA_SMR08','fracVSA_SMR09','fracVSA_SMR10','fracVSA_SlogP01','fracVSA_SlogP02','fracVSA_SlogP03','fracVSA_SlogP04','fracVSA_SlogP05','fracVSA_SlogP06','fracVSA_SlogP07','fracVSA_SlogP08','fracVSA_SlogP09','fracVSA_SlogP10','fracVSA_SlogP11','fracVSA_SlogP12','VSA_total']\n",
    "\n",
    "# re-order df columns\n",
    "new_col_order = ['Name','smile','BA_pct','MolWt','ExactMolWt','qed','MolLogP','MolMR','VSA_total','LabuteASA','TPSA','MaxPartialCharge','MinPartialCharge','MaxAbsPartialCharge','MinAbsPartialCharge','NumHAcceptors','NumHDonors','HeavyAtomCount','NumHeteroatoms','NumRotatableBonds','NHOHCount','NOCount','FractionCSP3','RingCount','NumAliphaticRings','NumAromaticRings','NumAliphaticHeterocycles','NumAromaticHeterocycles','NumSaturatedHeterocycles','NumSaturatedRings','BalabanJ','BertzCT','HallKierAlpha','PEOE_VSA1','PEOE_VSA2','PEOE_VSA3','PEOE_VSA4','PEOE_VSA5','PEOE_VSA6','PEOE_VSA7','PEOE_VSA8','PEOE_VSA9','PEOE_VSA10','PEOE_VSA11','PEOE_VSA12','PEOE_VSA13','PEOE_VSA14','SMR_VSA1','SMR_VSA2','SMR_VSA3','SMR_VSA4','SMR_VSA5','SMR_VSA6','SMR_VSA7','SMR_VSA8','SMR_VSA9','SMR_VSA10','SlogP_VSA1','SlogP_VSA2','SlogP_VSA3','SlogP_VSA4','SlogP_VSA5','SlogP_VSA6','SlogP_VSA7','SlogP_VSA8','SlogP_VSA9','SlogP_VSA10','SlogP_VSA11','SlogP_VSA12','PEOE_VSA1','PEOE_VSA2','PEOE_VSA3','PEOE_VSA4','PEOE_VSA5','PEOE_VSA6','PEOE_VSA7','PEOE_VSA8','PEOE_VSA9','PEOE_VSA10','PEOE_VSA11','PEOE_VSA12','PEOE_VSA13','PEOE_VSA14','SMR_VSA1','SMR_VSA2','SMR_VSA3','SMR_VSA4','SMR_VSA5','SMR_VSA6','SMR_VSA7','SMR_VSA8','SMR_VSA9','SMR_VSA10','SlogP_VSA1','SlogP_VSA2','SlogP_VSA3','SlogP_VSA4','SlogP_VSA5','SlogP_VSA6','SlogP_VSA7','SlogP_VSA8','SlogP_VSA9','SlogP_VSA10','SlogP_VSA11','SlogP_VSA12','fracVSA_PEOE01','fracVSA_PEOE02','fracVSA_PEOE03','fracVSA_PEOE04','fracVSA_PEOE05','fracVSA_PEOE06','fracVSA_PEOE07','fracVSA_PEOE08','fracVSA_PEOE09','fracVSA_PEOE10','fracVSA_PEOE11','fracVSA_PEOE12','fracVSA_PEOE13','fracVSA_PEOE14','fracVSA_SMR01','fracVSA_SMR02','fracVSA_SMR03','fracVSA_SMR04','fracVSA_SMR05','fracVSA_SMR06','fracVSA_SMR07','fracVSA_SMR08','fracVSA_SMR09','fracVSA_SMR10','fracVSA_SlogP01','fracVSA_SlogP02','fracVSA_SlogP03','fracVSA_SlogP04','fracVSA_SlogP05','fracVSA_SlogP06','fracVSA_SlogP07','fracVSA_SlogP08','fracVSA_SlogP09','fracVSA_SlogP10','fracVSA_SlogP11','fracVSA_SlogP12']\n",
    "temp2 = temp[['Name','smile','BA_pct','MolWt','ExactMolWt','qed','MolLogP','MolMR','VSA_total','LabuteASA','TPSA','MaxPartialCharge','MinPartialCharge','MaxAbsPartialCharge','MinAbsPartialCharge','NumHAcceptors','NumHDonors','HeavyAtomCount','NumHeteroatoms','NumRotatableBonds','NHOHCount','NOCount','FractionCSP3','RingCount','NumAliphaticRings','NumAromaticRings','NumAliphaticHeterocycles','NumAromaticHeterocycles','NumSaturatedHeterocycles','NumSaturatedRings','BalabanJ','BertzCT','HallKierAlpha','PEOE_VSA1','PEOE_VSA2','PEOE_VSA3','PEOE_VSA4','PEOE_VSA5','PEOE_VSA6','PEOE_VSA7','PEOE_VSA8','PEOE_VSA9','PEOE_VSA10','PEOE_VSA11','PEOE_VSA12','PEOE_VSA13','PEOE_VSA14','SMR_VSA1','SMR_VSA2','SMR_VSA3','SMR_VSA4','SMR_VSA5','SMR_VSA6','SMR_VSA7','SMR_VSA8','SMR_VSA9','SMR_VSA10','SlogP_VSA1','SlogP_VSA2','SlogP_VSA3','SlogP_VSA4','SlogP_VSA5','SlogP_VSA6','SlogP_VSA7','SlogP_VSA8','SlogP_VSA9','SlogP_VSA10','SlogP_VSA11','SlogP_VSA12','PEOE_VSA1','PEOE_VSA2','PEOE_VSA3','PEOE_VSA4','PEOE_VSA5','PEOE_VSA6','PEOE_VSA7','PEOE_VSA8','PEOE_VSA9','PEOE_VSA10','PEOE_VSA11','PEOE_VSA12','PEOE_VSA13','PEOE_VSA14','SMR_VSA1','SMR_VSA2','SMR_VSA3','SMR_VSA4','SMR_VSA5','SMR_VSA6','SMR_VSA7','SMR_VSA8','SMR_VSA9','SMR_VSA10','SlogP_VSA1','SlogP_VSA2','SlogP_VSA3','SlogP_VSA4','SlogP_VSA5','SlogP_VSA6','SlogP_VSA7','SlogP_VSA8','SlogP_VSA9','SlogP_VSA10','SlogP_VSA11','SlogP_VSA12','fracVSA_PEOE01','fracVSA_PEOE02','fracVSA_PEOE03','fracVSA_PEOE04','fracVSA_PEOE05','fracVSA_PEOE06','fracVSA_PEOE07','fracVSA_PEOE08','fracVSA_PEOE09','fracVSA_PEOE10','fracVSA_PEOE11','fracVSA_PEOE12','fracVSA_PEOE13','fracVSA_PEOE14','fracVSA_SMR01','fracVSA_SMR02','fracVSA_SMR03','fracVSA_SMR04','fracVSA_SMR05','fracVSA_SMR06','fracVSA_SMR07','fracVSA_SMR08','fracVSA_SMR09','fracVSA_SMR10','fracVSA_SlogP01','fracVSA_SlogP02','fracVSA_SlogP03','fracVSA_SlogP04','fracVSA_SlogP05','fracVSA_SlogP06','fracVSA_SlogP07','fracVSA_SlogP08','fracVSA_SlogP09','fracVSA_SlogP10','fracVSA_SlogP11','fracVSA_SlogP12']]\n",
    "\n",
    "# export\n",
    "temp2.to_csv('hob_data_w_calcs_v3.csv')"
   ]
  },
  {
   "cell_type": "code",
   "execution_count": null,
   "id": "4388fe25",
   "metadata": {},
   "outputs": [],
   "source": [
    "# reload saved data to verify\n",
    "df = pd.read_csv('hob_data_w_calcs_v3.csv')\n",
    "df = df.drop(columns='Unnamed: 0')"
   ]
  }
 ],
 "metadata": {
  "kernelspec": {
   "display_name": "Python 3 (ipykernel)",
   "language": "python",
   "name": "python3"
  },
  "language_info": {
   "codemirror_mode": {
    "name": "ipython",
    "version": 3
   },
   "file_extension": ".py",
   "mimetype": "text/x-python",
   "name": "python",
   "nbconvert_exporter": "python",
   "pygments_lexer": "ipython3",
   "version": "3.9.7"
  }
 },
 "nbformat": 4,
 "nbformat_minor": 5
}
