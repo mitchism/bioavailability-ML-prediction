{
 "cells": [
  {
   "cell_type": "markdown",
   "id": "474ce7e9",
   "metadata": {},
   "source": [
    "* import data"
   ]
  },
  {
   "cell_type": "code",
   "execution_count": null,
   "id": "43a301e4",
   "metadata": {},
   "outputs": [],
   "source": [
    "df = pd.read_csv('hob_data_w_calcs_v3.csv')\n",
    "df = df.drop(columns='Unnamed: 0')"
   ]
  },
  {
   "cell_type": "markdown",
   "id": "66332b3f",
   "metadata": {},
   "source": [
    "# Data Labeling Schemes"
   ]
  },
  {
   "cell_type": "markdown",
   "id": "8dad6f34",
   "metadata": {},
   "source": [
    "### visual comparison of binning schemes"
   ]
  },
  {
   "cell_type": "markdown",
   "id": "7c560b4b",
   "metadata": {},
   "source": [
    "* plot various histograms to decide on good distributions to discretize BA_pct into categorical levels"
   ]
  },
  {
   "cell_type": "code",
   "execution_count": null,
   "id": "e62208a2",
   "metadata": {},
   "outputs": [],
   "source": [
    "import matplotlib.pyplot as plt"
   ]
  },
  {
   "cell_type": "code",
   "execution_count": null,
   "id": "65abac62",
   "metadata": {},
   "outputs": [],
   "source": [
    "# 3 bins could work\n",
    "plt.hist(df['BA_pct'],bins=5),plt.hist(df['BA_pct'],bins=3)"
   ]
  },
  {
   "cell_type": "code",
   "execution_count": null,
   "id": "ed9cc84a",
   "metadata": {},
   "outputs": [],
   "source": [
    "# also like 5 bins\n",
    "fig,ax = plt.subplots()\n",
    "numBins = 5\n",
    "ax.hist(df['BA_pct'],bins=numBins)\n",
    "ax.set_title(f'BA distrib.,{numBins} bins',fontsize='small')\n",
    "ax.vlines(range(0,100,int(100/numBins)),0,500,color='red')"
   ]
  },
  {
   "cell_type": "code",
   "execution_count": null,
   "id": "70d0d942",
   "metadata": {},
   "outputs": [],
   "source": [
    "# or 5 bins with uneven distribution\n",
    "fig,ax = plt.subplots()\n",
    "numBins = 5\n",
    "ax.hist(df['BA_pct'],bins=numBins)\n",
    "ax.set_title(f'BA distrib.,{numBins} bins',fontsize='small')\n",
    "ax.vlines([0,12.5,32,68,87.5,100],0,500,color='red')"
   ]
  },
  {
   "cell_type": "code",
   "execution_count": null,
   "id": "8057fbc2",
   "metadata": {},
   "outputs": [],
   "source": [
    "# also like 5 bins\n",
    "fig,ax = plt.subplots()\n",
    "numBins = 5\n",
    "ax.hist(df['BA_pct'],bins=numBins)\n",
    "ax.set_title(f'BA distrib.,{numBins} bins',fontsize='small')\n",
    "ax.vlines([0,15,50,85,100],0,500,color='red')"
   ]
  },
  {
   "cell_type": "markdown",
   "id": "c6f2347c",
   "metadata": {},
   "source": [
    "### statistical comparison of binning shchemes"
   ]
  },
  {
   "cell_type": "markdown",
   "id": "29dce2bd",
   "metadata": {},
   "source": [
    "* apply tentative BA labels based on review of histograms (above) \n",
    "* assess label quality using group/aggregate to view stats"
   ]
  },
  {
   "cell_type": "code",
   "execution_count": null,
   "id": "ad966067",
   "metadata": {},
   "outputs": [],
   "source": [
    "splits1 = [x for x in range(0,100,int(100/3))]\n",
    "\n",
    "df.loc[(df['BA_pct'] <= splits1[1]),'label1'] = 'low'\n",
    "df.loc[(df['BA_pct'] > splits1[1])&(df['BA_pct'] <= splits1[2]),'label1'] = 'moderate'\n",
    "df.loc[(df['BA_pct'] > splits1[2]),'label1'] = 'high'\n",
    "\n",
    "df.groupby('label1').agg({'BA_pct':['count','mean','std']})"
   ]
  },
  {
   "cell_type": "code",
   "execution_count": null,
   "id": "81977d3c",
   "metadata": {},
   "outputs": [],
   "source": [
    "## ONE OF THE TWO BEST\n",
    "splits2 = [0,19,38,62,81,100]\n",
    "\n",
    "df.loc[(df['BA_pct'] <= splits2[1]),'label2a'] = 'very low'\n",
    "df.loc[(df['BA_pct'] > splits2[1])&(df['BA_pct'] <= splits2[2]),'label2a'] = 'low'\n",
    "df.loc[(df['BA_pct'] > splits2[2])&(df['BA_pct'] <= splits2[3]),'label2a'] = 'moderate'\n",
    "df.loc[(df['BA_pct'] > splits2[3])&(df['BA_pct'] <= splits2[4]),'label2a'] = 'high'\n",
    "df.loc[(df['BA_pct'] > splits2[4]),'label2a'] = 'very high'\n",
    "\n",
    "df.groupby('label2a').agg({'BA_pct':['count','mean','std']})"
   ]
  },
  {
   "cell_type": "code",
   "execution_count": null,
   "id": "a8fcdf61",
   "metadata": {},
   "outputs": [],
   "source": [
    "## ONE OF THE TWO BEST\n",
    "splits2 = [0,18,39,61,82,100]\n",
    "\n",
    "df.loc[(df['BA_pct'] <= splits2[1]),'label2b'] = 'very low'\n",
    "df.loc[(df['BA_pct'] > splits2[1])&(df['BA_pct'] <= splits2[2]),'label2b'] = 'low'\n",
    "df.loc[(df['BA_pct'] > splits2[2])&(df['BA_pct'] <= splits2[3]),'label2b'] = 'moderate'\n",
    "df.loc[(df['BA_pct'] > splits2[3])&(df['BA_pct'] <= splits2[4]),'label2b'] = 'high'\n",
    "df.loc[(df['BA_pct'] > splits2[4]),'label2b'] = 'very high'\n",
    "\n",
    "df.groupby('label2b').agg({'BA_pct':['count','mean','std']})"
   ]
  },
  {
   "cell_type": "code",
   "execution_count": null,
   "id": "fcc32f31",
   "metadata": {},
   "outputs": [],
   "source": [
    "splits3 = [0,20,50,80,100]\n",
    "df.loc[(df['BA_pct'] <= splits3[1]),'label3'] = 'very low'\n",
    "df.loc[(df['BA_pct'] > splits3[1])&(df['BA_pct'] <= splits3[2]),'label3'] = 'low'\n",
    "df.loc[(df['BA_pct'] > splits3[2])&(df['BA_pct'] <= splits3[3]),'label3'] = 'high'\n",
    "df.loc[(df['BA_pct'] > splits3[3]),'label3'] = 'very high'\n",
    "\n",
    "df.groupby('label3').agg({'BA_pct':['count','mean','std']})"
   ]
  },
  {
   "cell_type": "markdown",
   "id": "d9f5561a",
   "metadata": {},
   "source": [
    "* with several comparisons, final label scheme decided. \n",
    "* re-load data, and apply final labeling schemes"
   ]
  },
  {
   "cell_type": "code",
   "execution_count": null,
   "id": "b65f15e8",
   "metadata": {},
   "outputs": [],
   "source": [
    "df = pd.read_csv('hob_data_w_calcs_v3.csv')\n",
    "df = df.drop(columns='Unnamed: 0')\n",
    "\n",
    "# Labels 1\n",
    "splits1 = [x for x in range(0,100,int(100/3))]\n",
    "\n",
    "df.loc[(df['BA_pct'] <= splits1[1]),'label1'] = 'low'\n",
    "df.loc[(df['BA_pct'] > splits1[1])&(df['BA_pct'] <= splits1[2]),'label1'] = 'moderate'\n",
    "df.loc[(df['BA_pct'] > splits1[2]),'label1'] = 'high'\n",
    "\n",
    "#df.groupby('label1').agg({'BA_pct':['count','mean','std']})\n",
    "\n",
    "\n",
    "# Labels 2\n",
    "splits3 = [0,20,50,80,100]\n",
    "df.loc[(df['BA_pct'] <= splits3[1]),'label2'] = 'very low'\n",
    "df.loc[(df['BA_pct'] > splits3[1])&(df['BA_pct'] <= splits3[2]),'label2'] = 'low'\n",
    "df.loc[(df['BA_pct'] > splits3[2])&(df['BA_pct'] <= splits3[3]),'label2'] = 'high'\n",
    "df.loc[(df['BA_pct'] > splits3[3]),'label2'] = 'very high'\n",
    "\n",
    "#df.groupby('label2').agg({'BA_pct':['count','mean','std']})\n",
    "\n",
    "\n",
    "# Labels 3a\n",
    "splits2 = [0,19,38,62,81,100]\n",
    "\n",
    "df.loc[(df['BA_pct'] <= splits2[1]),'label3a'] = 'very low'\n",
    "df.loc[(df['BA_pct'] > splits2[1])&(df['BA_pct'] <= splits2[2]),'label3a'] = 'low'\n",
    "df.loc[(df['BA_pct'] > splits2[2])&(df['BA_pct'] <= splits2[3]),'label3a'] = 'moderate'\n",
    "df.loc[(df['BA_pct'] > splits2[3])&(df['BA_pct'] <= splits2[4]),'label3a'] = 'high'\n",
    "df.loc[(df['BA_pct'] > splits2[4]),'label3a'] = 'very high'\n",
    "\n",
    "#df.groupby('label3a').agg({'BA_pct':['count','mean','std']})\n",
    "\n",
    "# Labels 3b\n",
    "splits2 = [0,18,39,61,82,100]\n",
    "\n",
    "df.loc[(df['BA_pct'] <= splits2[1]),'label3b'] = 'very low'\n",
    "df.loc[(df['BA_pct'] > splits2[1])&(df['BA_pct'] <= splits2[2]),'label3b'] = 'low'\n",
    "df.loc[(df['BA_pct'] > splits2[2])&(df['BA_pct'] <= splits2[3]),'label3b'] = 'moderate'\n",
    "df.loc[(df['BA_pct'] > splits2[3])&(df['BA_pct'] <= splits2[4]),'label3b'] = 'high'\n",
    "df.loc[(df['BA_pct'] > splits2[4]),'label3b'] = 'very high'\n",
    "\n",
    "#df.groupby('label3b').agg({'BA_pct':['count','mean','std']})"
   ]
  },
  {
   "cell_type": "markdown",
   "id": "8409b3ad",
   "metadata": {},
   "source": [
    "* clean up and export"
   ]
  },
  {
   "cell_type": "code",
   "execution_count": null,
   "id": "2e35cd53",
   "metadata": {},
   "outputs": [],
   "source": [
    "df.to_csv('hob_data_w_calcs_v4_final.csv')\n",
    "df.to_csv('bioavailability_data_final.csv')"
   ]
  },
  {
   "cell_type": "markdown",
   "id": "6dc8caf9",
   "metadata": {},
   "source": [
    "* OPTIONAL: we can also make an excel file with molecular structure images in columns"
   ]
  },
  {
   "cell_type": "code",
   "execution_count": null,
   "id": "5d0c77f6",
   "metadata": {},
   "outputs": [],
   "source": [
    "from rdkit.Chem import PandasTools\n",
    "import xlsxwriter\n",
    "\n",
    "viztest = df.copy()\n",
    "PandasTools.AddMoleculeColumnToFrame(viztest,smilesCol='smile',molCol='structure',includeFingerprints=False)\n",
    "\n",
    "# original order\n",
    "PandasTools.SaveXlsxFromFrame(viztest, 'bioavailability_data_final_withStructures.xlsx', molCol='structure',size=(64,64))\n",
    "\n",
    "# alphabetized by drug name\n",
    "viztest_sorted = viztest.sort_values(by=['Name'])\n",
    "PandasTools.SaveXlsxFromFrame(viztest_sorted, 'bioavailability_data_final_withStructures_sorted.xlsx', molCol='structure',size=(64,64))"
   ]
  }
 ],
 "metadata": {
  "kernelspec": {
   "display_name": "Python 3 (ipykernel)",
   "language": "python",
   "name": "python3"
  },
  "language_info": {
   "codemirror_mode": {
    "name": "ipython",
    "version": 3
   },
   "file_extension": ".py",
   "mimetype": "text/x-python",
   "name": "python",
   "nbconvert_exporter": "python",
   "pygments_lexer": "ipython3",
   "version": "3.9.7"
  }
 },
 "nbformat": 4,
 "nbformat_minor": 5
}
