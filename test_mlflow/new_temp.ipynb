{
 "cells": [
  {
   "cell_type": "code",
   "execution_count": 1,
   "id": "5d20667f",
   "metadata": {
    "collapsed": true
   },
   "outputs": [
    {
     "name": "stdout",
     "output_type": "stream",
     "text": [
      "Defaulting to user installation because normal site-packages is not writeable\n",
      "Collecting mlflow\n",
      "  Downloading mlflow-1.29.0-py3-none-any.whl (16.9 MB)\n",
      "\u001b[2K     \u001b[38;2;114;156;31m━━━━━━━━━━━━━━━━━━━━━━━━━━━━━━━━━━━━━━━\u001b[0m \u001b[32m16.9/16.9 MB\u001b[0m \u001b[31m948.2 kB/s\u001b[0m eta \u001b[36m0:00:00\u001b[0mm eta \u001b[36m0:00:01\u001b[0m[36m0:00:01\u001b[0m\n",
      "\u001b[?25hCollecting gunicorn<21\n",
      "  Downloading gunicorn-20.1.0-py3-none-any.whl (79 kB)\n",
      "\u001b[2K     \u001b[38;2;114;156;31m━━━━━━━━━━━━━━━━━━━━━━━━━━━━━━━━━━━━━━━\u001b[0m \u001b[32m79.5/79.5 kB\u001b[0m \u001b[31m976.7 kB/s\u001b[0m eta \u001b[36m0:00:00\u001b[0m31m1.0 MB/s\u001b[0m eta \u001b[36m0:00:01\u001b[0m\n",
      "\u001b[?25hRequirement already satisfied: pytz<2023 in /usr/lib/python3/dist-packages (from mlflow) (2022.1)\n",
      "Requirement already satisfied: scipy<2 in /usr/lib/python3/dist-packages (from mlflow) (1.8.0)\n",
      "Collecting sqlparse<1,>=0.4.0\n",
      "  Downloading sqlparse-0.4.3-py3-none-any.whl (42 kB)\n",
      "\u001b[2K     \u001b[38;2;114;156;31m━━━━━━━━━━━━━━━━━━━━━━━━━━━━━━━━━━━━━━━\u001b[0m \u001b[32m42.8/42.8 kB\u001b[0m \u001b[31m937.1 kB/s\u001b[0m eta \u001b[36m0:00:00\u001b[0m31m1.3 MB/s\u001b[0m eta \u001b[36m0:00:01\u001b[0m\n",
      "\u001b[?25hRequirement already satisfied: pandas<2 in /home/mitch/.local/lib/python3.10/site-packages (from mlflow) (1.4.3)\n",
      "Collecting Flask<3\n",
      "  Downloading Flask-2.2.2-py3-none-any.whl (101 kB)\n",
      "\u001b[2K     \u001b[38;2;114;156;31m━━━━━━━━━━━━━━━━━━━━━━━━━━━━━━━━━━━━━\u001b[0m \u001b[32m101.5/101.5 kB\u001b[0m \u001b[31m862.1 kB/s\u001b[0m eta \u001b[36m0:00:00\u001b[0m1m946.5 kB/s\u001b[0m eta \u001b[36m0:00:01\u001b[0m\n",
      "\u001b[?25hRequirement already satisfied: importlib-metadata!=4.7.0,<5,>=3.7.0 in /usr/lib/python3/dist-packages (from mlflow) (4.6.4)\n",
      "Collecting gitpython<4,>=2.1.0\n",
      "  Downloading GitPython-3.1.27-py3-none-any.whl (181 kB)\n",
      "\u001b[2K     \u001b[38;2;114;156;31m━━━━━━━━━━━━━━━━━━━━━━━━━━━━━━━━━━━━━\u001b[0m \u001b[32m181.2/181.2 kB\u001b[0m \u001b[31m895.3 kB/s\u001b[0m eta \u001b[36m0:00:00\u001b[0m kB/s\u001b[0m eta \u001b[36m0:00:01\u001b[0m:01\u001b[0m\n",
      "\u001b[?25hCollecting alembic<2\n",
      "  Downloading alembic-1.8.1-py3-none-any.whl (209 kB)\n",
      "\u001b[2K     \u001b[38;2;114;156;31m━━━━━━━━━━━━━━━━━━━━━━━━━━━━━━━━━━━━━\u001b[0m \u001b[32m209.8/209.8 kB\u001b[0m \u001b[31m956.3 kB/s\u001b[0m eta \u001b[36m0:00:00\u001b[0m kB/s\u001b[0m eta \u001b[36m0:00:01\u001b[0m:01\u001b[0m\n",
      "\u001b[?25hCollecting databricks-cli<1,>=0.8.7\n",
      "  Downloading databricks-cli-0.17.3.tar.gz (77 kB)\n",
      "\u001b[2K     \u001b[38;2;114;156;31m━━━━━━━━━━━━━━━━━━━━━━━━━━━━━━━━━━━━━━━\u001b[0m \u001b[32m77.9/77.9 kB\u001b[0m \u001b[31m966.1 kB/s\u001b[0m eta \u001b[36m0:00:00\u001b[0m1m982.9 kB/s\u001b[0m eta \u001b[36m0:00:01\u001b[0m\n",
      "\u001b[?25h  Preparing metadata (setup.py) ... \u001b[?25ldone\n",
      "\u001b[?25hRequirement already satisfied: entrypoints<1 in /home/mitch/.local/lib/python3.10/site-packages (from mlflow) (0.4)\n",
      "Requirement already satisfied: protobuf<5,>=3.12.0 in /usr/lib/python3/dist-packages (from mlflow) (3.12.4)\n",
      "Requirement already satisfied: pyyaml<7,>=5.1 in /usr/lib/python3/dist-packages (from mlflow) (5.4.1)\n",
      "Requirement already satisfied: requests<3,>=2.17.3 in /home/mitch/.local/lib/python3.10/site-packages (from mlflow) (2.28.1)\n",
      "Requirement already satisfied: packaging<22 in /home/mitch/.local/lib/python3.10/site-packages (from mlflow) (21.3)\n",
      "Collecting querystring-parser<2\n",
      "  Downloading querystring_parser-1.2.4-py2.py3-none-any.whl (7.9 kB)\n",
      "Requirement already satisfied: click<9,>=7.0 in /usr/lib/python3/dist-packages (from mlflow) (8.0.3)\n",
      "Collecting cloudpickle<3\n",
      "  Downloading cloudpickle-2.2.0-py3-none-any.whl (25 kB)\n",
      "Requirement already satisfied: numpy<2 in /usr/lib/python3/dist-packages (from mlflow) (1.21.5)\n",
      "Collecting prometheus-flask-exporter<1\n",
      "  Downloading prometheus_flask_exporter-0.20.3-py3-none-any.whl (18 kB)\n",
      "Collecting docker<7,>=4.0.0\n",
      "  Downloading docker-6.0.0-py3-none-any.whl (147 kB)\n",
      "\u001b[2K     \u001b[38;2;114;156;31m━━━━━━━━━━━━━━━━━━━━━━━━━━━━━━━━━━━━━\u001b[0m \u001b[32m147.2/147.2 kB\u001b[0m \u001b[31m933.9 kB/s\u001b[0m eta \u001b[36m0:00:00\u001b[0m1m938.7 kB/s\u001b[0m eta \u001b[36m0:00:01\u001b[0m\n",
      "\u001b[?25hCollecting sqlalchemy<2,>=1.4.0\n",
      "  Downloading SQLAlchemy-1.4.41-cp310-cp310-manylinux_2_5_x86_64.manylinux1_x86_64.manylinux_2_17_x86_64.manylinux2014_x86_64.whl (1.6 MB)\n",
      "\u001b[2K     \u001b[38;2;114;156;31m━━━━━━━━━━━━━━━━━━━━━━━━━━━━━━━━━━━━━━━━\u001b[0m \u001b[32m1.6/1.6 MB\u001b[0m \u001b[31m947.4 kB/s\u001b[0m eta \u001b[36m0:00:00\u001b[0mm eta \u001b[36m0:00:01\u001b[0m[36m0:00:01\u001b[0m\n",
      "\u001b[?25hRequirement already satisfied: Mako in /usr/lib/python3/dist-packages (from alembic<2->mlflow) (1.1.3)\n",
      "Requirement already satisfied: oauthlib>=3.1.0 in /usr/lib/python3/dist-packages (from databricks-cli<1,>=0.8.7->mlflow) (3.2.0)\n",
      "Requirement already satisfied: pyjwt>=1.7.0 in /usr/lib/python3/dist-packages (from databricks-cli<1,>=0.8.7->mlflow) (2.3.0)\n",
      "Requirement already satisfied: six>=1.10.0 in /usr/lib/python3/dist-packages (from databricks-cli<1,>=0.8.7->mlflow) (1.16.0)\n",
      "Collecting tabulate>=0.7.7\n",
      "  Downloading tabulate-0.8.10-py3-none-any.whl (29 kB)\n",
      "Collecting websocket-client>=0.32.0\n",
      "  Downloading websocket_client-1.4.1-py3-none-any.whl (55 kB)\n",
      "\u001b[2K     \u001b[38;2;114;156;31m━━━━━━━━━━━━━━━━━━━━━━━━━━━━━━━━━━━━━━━\u001b[0m \u001b[32m55.0/55.0 kB\u001b[0m \u001b[31m921.9 kB/s\u001b[0m eta \u001b[36m0:00:00\u001b[0mMB/s\u001b[0m eta \u001b[36m0:00:01\u001b[0m\n",
      "\u001b[?25hRequirement already satisfied: urllib3>=1.26.0 in /usr/lib/python3/dist-packages (from docker<7,>=4.0.0->mlflow) (1.26.5)\n",
      "Requirement already satisfied: Jinja2>=3.0 in /home/mitch/.local/lib/python3.10/site-packages (from Flask<3->mlflow) (3.1.2)\n",
      "Collecting Werkzeug>=2.2.2\n",
      "  Downloading Werkzeug-2.2.2-py3-none-any.whl (232 kB)\n",
      "\u001b[2K     \u001b[38;2;114;156;31m━━━━━━━━━━━━━━━━━━━━━━━━━━━━━━━━━━━━━\u001b[0m \u001b[32m232.7/232.7 kB\u001b[0m \u001b[31m961.5 kB/s\u001b[0m eta \u001b[36m0:00:00\u001b[0m1m958.8 kB/s\u001b[0m eta \u001b[36m0:00:01\u001b[0m\n",
      "\u001b[?25hCollecting itsdangerous>=2.0\n",
      "  Downloading itsdangerous-2.1.2-py3-none-any.whl (15 kB)\n",
      "Collecting gitdb<5,>=4.0.1\n",
      "  Downloading gitdb-4.0.9-py3-none-any.whl (63 kB)\n",
      "\u001b[2K     \u001b[38;2;114;156;31m━━━━━━━━━━━━━━━━━━━━━━━━━━━━━━━━━━━━━━━\u001b[0m \u001b[32m63.1/63.1 kB\u001b[0m \u001b[31m893.7 kB/s\u001b[0m eta \u001b[36m0:00:00\u001b[0m31m1.0 MB/s\u001b[0m eta \u001b[36m0:00:01\u001b[0m\n",
      "\u001b[?25hRequirement already satisfied: setuptools>=3.0 in /usr/lib/python3/dist-packages (from gunicorn<21->mlflow) (59.6.0)\n",
      "Requirement already satisfied: pyparsing!=3.0.5,>=2.0.2 in /usr/lib/python3/dist-packages (from packaging<22->mlflow) (2.4.7)\n",
      "Requirement already satisfied: python-dateutil>=2.8.1 in /home/mitch/.local/lib/python3.10/site-packages (from pandas<2->mlflow) (2.8.2)\n",
      "Requirement already satisfied: prometheus-client in /home/mitch/.local/lib/python3.10/site-packages (from prometheus-flask-exporter<1->mlflow) (0.14.1)\n",
      "Requirement already satisfied: certifi>=2017.4.17 in /usr/lib/python3/dist-packages (from requests<3,>=2.17.3->mlflow) (2020.6.20)\n",
      "Requirement already satisfied: charset-normalizer<3,>=2 in /home/mitch/.local/lib/python3.10/site-packages (from requests<3,>=2.17.3->mlflow) (2.1.0)\n",
      "Requirement already satisfied: idna<4,>=2.5 in /usr/lib/python3/dist-packages (from requests<3,>=2.17.3->mlflow) (3.3)\n",
      "Collecting greenlet!=0.4.17\n",
      "  Downloading greenlet-1.1.3-cp310-cp310-manylinux_2_17_x86_64.manylinux2014_x86_64.whl (155 kB)\n",
      "\u001b[2K     \u001b[38;2;114;156;31m━━━━━━━━━━━━━━━━━━━━━━━━━━━━━━━━━━━━━━━\u001b[0m \u001b[32m155.9/155.9 kB\u001b[0m \u001b[31m1.0 MB/s\u001b[0m eta \u001b[36m0:00:00\u001b[0m[36m0:00:01\u001b[0m[36m0:00:01\u001b[0m:01\u001b[0m\n",
      "\u001b[?25hCollecting smmap<6,>=3.0.1\n",
      "  Downloading smmap-5.0.0-py3-none-any.whl (24 kB)\n",
      "Requirement already satisfied: MarkupSafe>=2.0 in /usr/lib/python3/dist-packages (from Jinja2>=3.0->Flask<3->mlflow) (2.0.1)\n",
      "Collecting MarkupSafe>=2.0\n",
      "  Downloading MarkupSafe-2.1.1-cp310-cp310-manylinux_2_17_x86_64.manylinux2014_x86_64.whl (25 kB)\n",
      "Building wheels for collected packages: databricks-cli\n",
      "  Building wheel for databricks-cli (setup.py) ... \u001b[?25ldone\n",
      "\u001b[?25h  Created wheel for databricks-cli: filename=databricks_cli-0.17.3-py3-none-any.whl size=139101 sha256=c97accab02d35051bdf85bbf2f390a33b390dca2fd3b8667dec9bf25732af19a\n",
      "  Stored in directory: /home/mitch/.cache/pip/wheels/5f/1d/47/2155f722d7738e76be0013135782fad22cd3c5dacb63fb86aa\n",
      "Successfully built databricks-cli\n",
      "Installing collected packages: websocket-client, tabulate, sqlparse, smmap, querystring-parser, MarkupSafe, itsdangerous, gunicorn, greenlet, cloudpickle, Werkzeug, sqlalchemy, gitdb, docker, databricks-cli, gitpython, Flask, alembic, prometheus-flask-exporter, mlflow\n",
      "Successfully installed Flask-2.2.2 MarkupSafe-2.1.1 Werkzeug-2.2.2 alembic-1.8.1 cloudpickle-2.2.0 databricks-cli-0.17.3 docker-6.0.0 gitdb-4.0.9 gitpython-3.1.27 greenlet-1.1.3 gunicorn-20.1.0 itsdangerous-2.1.2 mlflow-1.29.0 prometheus-flask-exporter-0.20.3 querystring-parser-1.2.4 smmap-5.0.0 sqlalchemy-1.4.41 sqlparse-0.4.3 tabulate-0.8.10 websocket-client-1.4.1\n"
     ]
    },
    {
     "name": "stdout",
     "output_type": "stream",
     "text": [
      "--- Logging error ---\n",
      "Traceback (most recent call last):\n",
      "  File \"/usr/local/lib/python3.10/dist-packages/pip/_internal/utils/logging.py\", line 177, in emit\n",
      "    self.console.print(renderable, overflow=\"ignore\", crop=False, style=style)\n",
      "  File \"/usr/local/lib/python3.10/dist-packages/pip/_vendor/rich/console.py\", line 1752, in print\n",
      "    extend(render(renderable, render_options))\n",
      "  File \"/usr/local/lib/python3.10/dist-packages/pip/_vendor/rich/console.py\", line 1390, in render\n",
      "    for render_output in iter_render:\n",
      "  File \"/usr/local/lib/python3.10/dist-packages/pip/_internal/utils/logging.py\", line 134, in __rich_console__\n",
      "    for line in lines:\n",
      "  File \"/usr/local/lib/python3.10/dist-packages/pip/_vendor/rich/segment.py\", line 245, in split_lines\n",
      "    for segment in segments:\n",
      "  File \"/usr/local/lib/python3.10/dist-packages/pip/_vendor/rich/console.py\", line 1368, in render\n",
      "    renderable = rich_cast(renderable)\n",
      "  File \"/usr/local/lib/python3.10/dist-packages/pip/_vendor/rich/protocol.py\", line 36, in rich_cast\n",
      "    renderable = cast_method()\n",
      "  File \"/usr/local/lib/python3.10/dist-packages/pip/_internal/self_outdated_check.py\", line 130, in __rich__\n",
      "    pip_cmd = get_best_invocation_for_this_pip()\n",
      "  File \"/usr/local/lib/python3.10/dist-packages/pip/_internal/utils/entrypoints.py\", line 58, in get_best_invocation_for_this_pip\n",
      "    if found_executable and os.path.samefile(\n",
      "  File \"/usr/lib/python3.10/genericpath.py\", line 101, in samefile\n",
      "    s2 = os.stat(f2)\n",
      "FileNotFoundError: [Errno 2] No such file or directory: '/usr/bin/pip'\n",
      "Call stack:\n",
      "  File \"/usr/local/bin/pip\", line 8, in <module>\n",
      "    sys.exit(main())\n",
      "  File \"/usr/local/lib/python3.10/dist-packages/pip/_internal/cli/main.py\", line 70, in main\n",
      "    return command.main(cmd_args)\n",
      "  File \"/usr/local/lib/python3.10/dist-packages/pip/_internal/cli/base_command.py\", line 101, in main\n",
      "    return self._main(args)\n",
      "  File \"/usr/local/lib/python3.10/dist-packages/pip/_internal/cli/base_command.py\", line 223, in _main\n",
      "    self.handle_pip_version_check(options)\n",
      "  File \"/usr/local/lib/python3.10/dist-packages/pip/_internal/cli/req_command.py\", line 148, in handle_pip_version_check\n",
      "    pip_self_version_check(session, options)\n",
      "  File \"/usr/local/lib/python3.10/dist-packages/pip/_internal/self_outdated_check.py\", line 237, in pip_self_version_check\n",
      "    logger.info(\"[present-rich] %s\", upgrade_prompt)\n",
      "  File \"/usr/lib/python3.10/logging/__init__.py\", line 1477, in info\n",
      "    self._log(INFO, msg, args, **kwargs)\n",
      "  File \"/usr/lib/python3.10/logging/__init__.py\", line 1624, in _log\n",
      "    self.handle(record)\n",
      "  File \"/usr/lib/python3.10/logging/__init__.py\", line 1634, in handle\n",
      "    self.callHandlers(record)\n",
      "  File \"/usr/lib/python3.10/logging/__init__.py\", line 1696, in callHandlers\n",
      "    hdlr.handle(record)\n",
      "  File \"/usr/lib/python3.10/logging/__init__.py\", line 968, in handle\n",
      "    self.emit(record)\n",
      "  File \"/usr/local/lib/python3.10/dist-packages/pip/_internal/utils/logging.py\", line 179, in emit\n",
      "    self.handleError(record)\n",
      "Message: '[present-rich] %s'\n",
      "Arguments: (UpgradePrompt(old='22.1.2', new='22.2.2'),)\n",
      "Defaulting to user installation because normal site-packages is not writeable\n",
      "Requirement already satisfied: mlflow[pipelines] in /home/mitch/.local/lib/python3.10/site-packages (1.29.0)\n",
      "Requirement already satisfied: click<9,>=7.0 in /usr/lib/python3/dist-packages (from mlflow[pipelines]) (8.0.3)\n",
      "Requirement already satisfied: importlib-metadata!=4.7.0,<5,>=3.7.0 in /usr/lib/python3/dist-packages (from mlflow[pipelines]) (4.6.4)\n",
      "Requirement already satisfied: pytz<2023 in /usr/lib/python3/dist-packages (from mlflow[pipelines]) (2022.1)\n",
      "Requirement already satisfied: cloudpickle<3 in /home/mitch/.local/lib/python3.10/site-packages (from mlflow[pipelines]) (2.2.0)\n",
      "Requirement already satisfied: alembic<2 in /home/mitch/.local/lib/python3.10/site-packages (from mlflow[pipelines]) (1.8.1)\n",
      "Requirement already satisfied: packaging<22 in /home/mitch/.local/lib/python3.10/site-packages (from mlflow[pipelines]) (21.3)\n",
      "Requirement already satisfied: sqlparse<1,>=0.4.0 in /home/mitch/.local/lib/python3.10/site-packages (from mlflow[pipelines]) (0.4.3)\n",
      "Requirement already satisfied: docker<7,>=4.0.0 in /home/mitch/.local/lib/python3.10/site-packages (from mlflow[pipelines]) (6.0.0)\n",
      "Requirement already satisfied: entrypoints<1 in /home/mitch/.local/lib/python3.10/site-packages (from mlflow[pipelines]) (0.4)\n",
      "Requirement already satisfied: databricks-cli<1,>=0.8.7 in /home/mitch/.local/lib/python3.10/site-packages (from mlflow[pipelines]) (0.17.3)\n",
      "Requirement already satisfied: requests<3,>=2.17.3 in /home/mitch/.local/lib/python3.10/site-packages (from mlflow[pipelines]) (2.28.1)\n",
      "Requirement already satisfied: gitpython<4,>=2.1.0 in /home/mitch/.local/lib/python3.10/site-packages (from mlflow[pipelines]) (3.1.27)\n",
      "Requirement already satisfied: scipy<2 in /usr/lib/python3/dist-packages (from mlflow[pipelines]) (1.8.0)\n",
      "Requirement already satisfied: pandas<2 in /home/mitch/.local/lib/python3.10/site-packages (from mlflow[pipelines]) (1.4.3)\n",
      "Requirement already satisfied: sqlalchemy<2,>=1.4.0 in /home/mitch/.local/lib/python3.10/site-packages (from mlflow[pipelines]) (1.4.41)\n",
      "Requirement already satisfied: protobuf<5,>=3.12.0 in /usr/lib/python3/dist-packages (from mlflow[pipelines]) (3.12.4)\n",
      "Requirement already satisfied: pyyaml<7,>=5.1 in /usr/lib/python3/dist-packages (from mlflow[pipelines]) (5.4.1)\n",
      "Requirement already satisfied: prometheus-flask-exporter<1 in /home/mitch/.local/lib/python3.10/site-packages (from mlflow[pipelines]) (0.20.3)\n",
      "Requirement already satisfied: numpy<2 in /usr/lib/python3/dist-packages (from mlflow[pipelines]) (1.21.5)\n",
      "Requirement already satisfied: querystring-parser<2 in /home/mitch/.local/lib/python3.10/site-packages (from mlflow[pipelines]) (1.2.4)\n",
      "Requirement already satisfied: Flask<3 in /home/mitch/.local/lib/python3.10/site-packages (from mlflow[pipelines]) (2.2.2)\n",
      "Requirement already satisfied: gunicorn<21 in /home/mitch/.local/lib/python3.10/site-packages (from mlflow[pipelines]) (20.1.0)\n",
      "Collecting pandas-profiling>=3.1\n",
      "  Downloading pandas_profiling-3.3.0-py2.py3-none-any.whl (268 kB)\n",
      "\u001b[2K     \u001b[38;2;114;156;31m━━━━━━━━━━━━━━━━━━━━━━━━━━━━━━━━━━━━━\u001b[0m \u001b[32m268.0/268.0 kB\u001b[0m \u001b[31m944.9 kB/s\u001b[0m eta \u001b[36m0:00:00\u001b[0m1m980.4 kB/s\u001b[0m eta \u001b[36m0:00:01\u001b[0m\n",
      "\u001b[?25hCollecting markdown>=3.3\n",
      "  Downloading Markdown-3.4.1-py3-none-any.whl (93 kB)\n",
      "\u001b[2K     \u001b[38;2;114;156;31m━━━━━━━━━━━━━━━━━━━━━━━━━━━━━━━━━━━━━━━\u001b[0m \u001b[32m93.3/93.3 kB\u001b[0m \u001b[31m897.2 kB/s\u001b[0m eta \u001b[36m0:00:00\u001b[0mm eta \u001b[36m0:00:01\u001b[0m:01\u001b[0m\n",
      "\u001b[?25hRequirement already satisfied: ipython>=7.0 in /home/mitch/.local/lib/python3.10/site-packages (from mlflow[pipelines]) (8.4.0)\n",
      "Requirement already satisfied: scikit-learn>=1.0 in /home/mitch/.local/lib/python3.10/site-packages (from mlflow[pipelines]) (1.1.2)\n",
      "Requirement already satisfied: Jinja2>=3.0 in /home/mitch/.local/lib/python3.10/site-packages (from mlflow[pipelines]) (3.1.2)\n",
      "Collecting shap>=0.40\n",
      "  Downloading shap-0.41.0-cp310-cp310-manylinux_2_12_x86_64.manylinux2010_x86_64.whl (572 kB)\n",
      "\u001b[2K     \u001b[38;2;114;156;31m━━━━━━━━━━━━━━━━━━━━━━━━━━━━━━━━━━━━━\u001b[0m \u001b[32m572.6/572.6 kB\u001b[0m \u001b[31m893.2 kB/s\u001b[0m eta \u001b[36m0:00:00\u001b[0m[36m0:00:01\u001b[0m[36m0:00:01\u001b[0m:01\u001b[0m\n",
      "\u001b[?25hRequirement already satisfied: pyarrow>=7.0 in /home/mitch/.local/lib/python3.10/site-packages (from mlflow[pipelines]) (8.0.0)\n",
      "Requirement already satisfied: Mako in /usr/lib/python3/dist-packages (from alembic<2->mlflow[pipelines]) (1.1.3)\n",
      "Requirement already satisfied: oauthlib>=3.1.0 in /usr/lib/python3/dist-packages (from databricks-cli<1,>=0.8.7->mlflow[pipelines]) (3.2.0)\n",
      "Requirement already satisfied: tabulate>=0.7.7 in /home/mitch/.local/lib/python3.10/site-packages (from databricks-cli<1,>=0.8.7->mlflow[pipelines]) (0.8.10)\n",
      "Requirement already satisfied: six>=1.10.0 in /usr/lib/python3/dist-packages (from databricks-cli<1,>=0.8.7->mlflow[pipelines]) (1.16.0)\n",
      "Requirement already satisfied: pyjwt>=1.7.0 in /usr/lib/python3/dist-packages (from databricks-cli<1,>=0.8.7->mlflow[pipelines]) (2.3.0)\n",
      "Requirement already satisfied: websocket-client>=0.32.0 in /home/mitch/.local/lib/python3.10/site-packages (from docker<7,>=4.0.0->mlflow[pipelines]) (1.4.1)\n",
      "Requirement already satisfied: urllib3>=1.26.0 in /usr/lib/python3/dist-packages (from docker<7,>=4.0.0->mlflow[pipelines]) (1.26.5)\n",
      "Requirement already satisfied: Werkzeug>=2.2.2 in /home/mitch/.local/lib/python3.10/site-packages (from Flask<3->mlflow[pipelines]) (2.2.2)\n",
      "Requirement already satisfied: itsdangerous>=2.0 in /home/mitch/.local/lib/python3.10/site-packages (from Flask<3->mlflow[pipelines]) (2.1.2)\n",
      "Requirement already satisfied: gitdb<5,>=4.0.1 in /home/mitch/.local/lib/python3.10/site-packages (from gitpython<4,>=2.1.0->mlflow[pipelines]) (4.0.9)\n",
      "Requirement already satisfied: setuptools>=3.0 in /usr/lib/python3/dist-packages (from gunicorn<21->mlflow[pipelines]) (59.6.0)\n",
      "Requirement already satisfied: stack-data in /home/mitch/.local/lib/python3.10/site-packages (from ipython>=7.0->mlflow[pipelines]) (0.3.0)\n",
      "Requirement already satisfied: jedi>=0.16 in /home/mitch/.local/lib/python3.10/site-packages (from ipython>=7.0->mlflow[pipelines]) (0.18.1)\n",
      "Requirement already satisfied: matplotlib-inline in /home/mitch/.local/lib/python3.10/site-packages (from ipython>=7.0->mlflow[pipelines]) (0.1.3)\n",
      "Requirement already satisfied: pexpect>4.3 in /usr/lib/python3/dist-packages (from ipython>=7.0->mlflow[pipelines]) (4.8.0)\n",
      "Requirement already satisfied: prompt-toolkit!=3.0.0,!=3.0.1,<3.1.0,>=2.0.0 in /home/mitch/.local/lib/python3.10/site-packages (from ipython>=7.0->mlflow[pipelines]) (3.0.30)\n"
     ]
    },
    {
     "name": "stdout",
     "output_type": "stream",
     "text": [
      "Requirement already satisfied: decorator in /home/mitch/.local/lib/python3.10/site-packages (from ipython>=7.0->mlflow[pipelines]) (5.1.1)\n",
      "Requirement already satisfied: pickleshare in /home/mitch/.local/lib/python3.10/site-packages (from ipython>=7.0->mlflow[pipelines]) (0.7.5)\n",
      "Requirement already satisfied: backcall in /home/mitch/.local/lib/python3.10/site-packages (from ipython>=7.0->mlflow[pipelines]) (0.2.0)\n",
      "Requirement already satisfied: pygments>=2.4.0 in /home/mitch/.local/lib/python3.10/site-packages (from ipython>=7.0->mlflow[pipelines]) (2.12.0)\n",
      "Requirement already satisfied: traitlets>=5 in /home/mitch/.local/lib/python3.10/site-packages (from ipython>=7.0->mlflow[pipelines]) (5.3.0)\n",
      "Requirement already satisfied: MarkupSafe>=2.0 in /home/mitch/.local/lib/python3.10/site-packages (from Jinja2>=3.0->mlflow[pipelines]) (2.1.1)\n",
      "Requirement already satisfied: pyparsing!=3.0.5,>=2.0.2 in /usr/lib/python3/dist-packages (from packaging<22->mlflow[pipelines]) (2.4.7)\n",
      "Requirement already satisfied: python-dateutil>=2.8.1 in /home/mitch/.local/lib/python3.10/site-packages (from pandas<2->mlflow[pipelines]) (2.8.2)\n",
      "Requirement already satisfied: joblib~=1.1.0 in /home/mitch/.local/lib/python3.10/site-packages (from pandas-profiling>=3.1->mlflow[pipelines]) (1.1.0)\n",
      "Collecting missingno<0.6,>=0.4.2\n",
      "  Downloading missingno-0.5.1-py3-none-any.whl (8.7 kB)\n",
      "Collecting tangled-up-in-unicode==0.2.0\n",
      "  Downloading tangled_up_in_unicode-0.2.0-py3-none-any.whl (4.7 MB)\n",
      "\u001b[2K     \u001b[38;2;114;156;31m━━━━━━━━━━━━━━━━━━━━━━━━━━━━━━━━━━━━━━━━\u001b[0m \u001b[32m4.7/4.7 MB\u001b[0m \u001b[31m950.2 kB/s\u001b[0m eta \u001b[36m0:00:00\u001b[0mm eta \u001b[36m0:00:01\u001b[0m[36m0:00:01\u001b[0m\n",
      "\u001b[?25hRequirement already satisfied: tqdm<4.65,>=4.48.2 in /home/mitch/.local/lib/python3.10/site-packages (from pandas-profiling>=3.1->mlflow[pipelines]) (4.64.0)\n",
      "Collecting htmlmin==0.1.12\n",
      "  Downloading htmlmin-0.1.12.tar.gz (19 kB)\n",
      "  Preparing metadata (setup.py) ... \u001b[?25ldone\n",
      "\u001b[?25hRequirement already satisfied: seaborn<0.12,>=0.10.1 in /home/mitch/.local/lib/python3.10/site-packages (from pandas-profiling>=3.1->mlflow[pipelines]) (0.11.2)\n",
      "Collecting phik<0.13,>=0.11.1\n",
      "  Downloading phik-0.12.2-cp310-cp310-manylinux_2_17_x86_64.manylinux2014_x86_64.whl (737 kB)\n",
      "\u001b[2K     \u001b[38;2;114;156;31m━━━━━━━━━━━━━━━━━━━━━━━━━━━━━━━━━━━━━\u001b[0m \u001b[32m737.2/737.2 kB\u001b[0m \u001b[31m946.0 kB/s\u001b[0m eta \u001b[36m0:00:00\u001b[0m[36m0:00:01\u001b[0mm eta \u001b[36m0:00:01\u001b[0m\n",
      "\u001b[?25hCollecting pydantic<1.10,>=1.8.1\n",
      "  Downloading pydantic-1.9.2-cp310-cp310-manylinux_2_17_x86_64.manylinux2014_x86_64.whl (12.0 MB)\n",
      "\u001b[2K     \u001b[38;2;114;156;31m━━━━━━━━━━━━━━━━━━━━━━━━━━━━━━━━━━━━━━━\u001b[0m \u001b[32m12.0/12.0 MB\u001b[0m \u001b[31m948.1 kB/s\u001b[0m eta \u001b[36m0:00:00\u001b[0mm eta \u001b[36m0:00:01\u001b[0m[36m0:00:01\u001b[0m\n",
      "\u001b[?25hCollecting multimethod<1.9,>=1.4\n",
      "  Downloading multimethod-1.8-py3-none-any.whl (9.8 kB)\n",
      "Collecting statsmodels<0.14,>=0.13.2\n",
      "  Downloading statsmodels-0.13.2-cp310-cp310-manylinux_2_17_x86_64.manylinux2014_x86_64.whl (10.0 MB)\n",
      "\u001b[2K     \u001b[38;2;114;156;31m━━━━━━━━━━━━━━━━━━━━━━━━━━━━━━━━━━━━━━━\u001b[0m \u001b[32m10.0/10.0 MB\u001b[0m \u001b[31m947.9 kB/s\u001b[0m eta \u001b[36m0:00:00\u001b[0mm eta \u001b[36m0:00:01\u001b[0m[36m0:00:01\u001b[0m\n",
      "\u001b[?25hRequirement already satisfied: matplotlib<3.6,>=3.2 in /usr/lib/python3/dist-packages (from pandas-profiling>=3.1->mlflow[pipelines]) (3.5.1)\n",
      "Collecting visions[type_image_path]==0.7.5\n",
      "  Downloading visions-0.7.5-py3-none-any.whl (102 kB)\n",
      "\u001b[2K     \u001b[38;2;114;156;31m━━━━━━━━━━━━━━━━━━━━━━━━━━━━━━━━━━━━━\u001b[0m \u001b[32m102.7/102.7 kB\u001b[0m \u001b[31m926.6 kB/s\u001b[0m eta \u001b[36m0:00:00\u001b[0mm eta \u001b[36m0:00:01\u001b[0m[36m0:00:01\u001b[0m\n",
      "\u001b[?25hCollecting networkx>=2.4\n",
      "  Downloading networkx-2.8.6-py3-none-any.whl (2.0 MB)\n",
      "\u001b[2K     \u001b[38;2;114;156;31m━━━━━━━━━━━━━━━━━━━━━━━━━━━━━━━━━━━━━━━━\u001b[0m \u001b[32m2.0/2.0 MB\u001b[0m \u001b[31m947.2 kB/s\u001b[0m eta \u001b[36m0:00:00\u001b[0m[36m0:00:01\u001b[0mm eta \u001b[36m0:00:01\u001b[0m\n",
      "\u001b[?25hRequirement already satisfied: attrs>=19.3.0 in /home/mitch/.local/lib/python3.10/site-packages (from visions[type_image_path]==0.7.5->pandas-profiling>=3.1->mlflow[pipelines]) (21.4.0)\n",
      "Requirement already satisfied: Pillow in /usr/lib/python3/dist-packages (from visions[type_image_path]==0.7.5->pandas-profiling>=3.1->mlflow[pipelines]) (9.0.1)\n",
      "Collecting imagehash\n",
      "  Downloading ImageHash-4.3.0-py2.py3-none-any.whl (296 kB)\n",
      "\u001b[2K     \u001b[38;2;114;156;31m━━━━━━━━━━━━━━━━━━━━━━━━━━━━━━━━━━━━━\u001b[0m \u001b[32m296.4/296.4 kB\u001b[0m \u001b[31m910.9 kB/s\u001b[0m eta \u001b[36m0:00:00\u001b[0m1m942.8 kB/s\u001b[0m eta \u001b[36m0:00:01\u001b[0m\n",
      "\u001b[?25hRequirement already satisfied: prometheus-client in /home/mitch/.local/lib/python3.10/site-packages (from prometheus-flask-exporter<1->mlflow[pipelines]) (0.14.1)\n",
      "Requirement already satisfied: idna<4,>=2.5 in /usr/lib/python3/dist-packages (from requests<3,>=2.17.3->mlflow[pipelines]) (3.3)\n",
      "Requirement already satisfied: charset-normalizer<3,>=2 in /home/mitch/.local/lib/python3.10/site-packages (from requests<3,>=2.17.3->mlflow[pipelines]) (2.1.0)\n",
      "Requirement already satisfied: certifi>=2017.4.17 in /usr/lib/python3/dist-packages (from requests<3,>=2.17.3->mlflow[pipelines]) (2020.6.20)\n",
      "Requirement already satisfied: threadpoolctl>=2.0.0 in /home/mitch/.local/lib/python3.10/site-packages (from scikit-learn>=1.0->mlflow[pipelines]) (3.1.0)\n",
      "Collecting slicer==0.0.7\n",
      "  Downloading slicer-0.0.7-py3-none-any.whl (14 kB)\n",
      "Collecting numba\n",
      "  Downloading numba-0.56.2-cp310-cp310-manylinux2014_x86_64.manylinux_2_17_x86_64.whl (3.5 MB)\n",
      "\u001b[2K     \u001b[38;2;114;156;31m━━━━━━━━━━━━━━━━━━━━━━━━━━━━━━━━━━━━━━━━\u001b[0m \u001b[32m3.5/3.5 MB\u001b[0m \u001b[31m945.2 kB/s\u001b[0m eta \u001b[36m0:00:00\u001b[0mm eta \u001b[36m0:00:01\u001b[0m[36m0:00:01\u001b[0m\n",
      "\u001b[?25hRequirement already satisfied: greenlet!=0.4.17 in /home/mitch/.local/lib/python3.10/site-packages (from sqlalchemy<2,>=1.4.0->mlflow[pipelines]) (1.1.3)\n",
      "Requirement already satisfied: smmap<6,>=3.0.1 in /home/mitch/.local/lib/python3.10/site-packages (from gitdb<5,>=4.0.1->gitpython<4,>=2.1.0->mlflow[pipelines]) (5.0.0)\n",
      "Requirement already satisfied: parso<0.9.0,>=0.8.0 in /home/mitch/.local/lib/python3.10/site-packages (from jedi>=0.16->ipython>=7.0->mlflow[pipelines]) (0.8.3)\n",
      "Requirement already satisfied: wcwidth in /home/mitch/.local/lib/python3.10/site-packages (from prompt-toolkit!=3.0.0,!=3.0.1,<3.1.0,>=2.0.0->ipython>=7.0->mlflow[pipelines]) (0.2.5)\n",
      "Collecting typing-extensions>=3.7.4.3\n",
      "  Downloading typing_extensions-4.3.0-py3-none-any.whl (25 kB)\n",
      "Collecting patsy>=0.5.2\n",
      "  Downloading patsy-0.5.2-py2.py3-none-any.whl (233 kB)\n",
      "\u001b[2K     \u001b[38;2;114;156;31m━━━━━━━━━━━━━━━━━━━━━━━━━━━━━━━━━━━━━\u001b[0m \u001b[32m233.7/233.7 kB\u001b[0m \u001b[31m945.6 kB/s\u001b[0m eta \u001b[36m0:00:00\u001b[0m1m969.6 kB/s\u001b[0m eta \u001b[36m0:00:01\u001b[0m\n",
      "\u001b[?25hCollecting llvmlite<0.40,>=0.39.0dev0\n",
      "  Downloading llvmlite-0.39.1-cp310-cp310-manylinux_2_17_x86_64.manylinux2014_x86_64.whl (34.6 MB)\n",
      "\u001b[2K     \u001b[38;2;114;156;31m━━━━━━━━━━━━━━━━━━━━━━━━━━━━━━━━━━━━━━━\u001b[0m \u001b[32m34.6/34.6 MB\u001b[0m \u001b[31m943.1 kB/s\u001b[0m eta \u001b[36m0:00:00\u001b[0mm eta \u001b[36m0:00:01\u001b[0m[36m0:00:01\u001b[0m\n",
      "\u001b[?25hRequirement already satisfied: pure-eval in /home/mitch/.local/lib/python3.10/site-packages (from stack-data->ipython>=7.0->mlflow[pipelines]) (0.2.2)\n",
      "Requirement already satisfied: asttokens in /home/mitch/.local/lib/python3.10/site-packages (from stack-data->ipython>=7.0->mlflow[pipelines]) (2.0.5)\n",
      "Requirement already satisfied: executing in /home/mitch/.local/lib/python3.10/site-packages (from stack-data->ipython>=7.0->mlflow[pipelines]) (0.8.3)\n",
      "Collecting PyWavelets\n",
      "  Downloading PyWavelets-1.4.1-cp310-cp310-manylinux_2_17_x86_64.manylinux2014_x86_64.whl (6.8 MB)\n",
      "\u001b[2K     \u001b[38;2;114;156;31m━━━━━━━━━━━━━━━━━━━━━━━━━━━━━━━━━━━━━━━━\u001b[0m \u001b[32m6.8/6.8 MB\u001b[0m \u001b[31m949.6 kB/s\u001b[0m eta \u001b[36m0:00:00\u001b[0mm eta \u001b[36m0:00:01\u001b[0m[36m0:00:01\u001b[0m\n",
      "\u001b[?25hBuilding wheels for collected packages: htmlmin\n",
      "  Building wheel for htmlmin (setup.py) ... \u001b[?25ldone\n",
      "\u001b[?25h  Created wheel for htmlmin: filename=htmlmin-0.1.12-py3-none-any.whl size=27098 sha256=da65f838575977dfb739882348eb5cdfc0d9d13d102e46462dbf21a278ac3917\n",
      "  Stored in directory: /home/mitch/.cache/pip/wheels/dd/91/29/a79cecb328d01739e64017b6fb9a1ab9d8cb1853098ec5966d\n",
      "Successfully built htmlmin\n",
      "Installing collected packages: htmlmin, typing-extensions, tangled-up-in-unicode, slicer, PyWavelets, patsy, networkx, multimethod, markdown, llvmlite, pydantic, numba, imagehash, visions, statsmodels, shap, phik, missingno, pandas-profiling\n"
     ]
    },
    {
     "name": "stdout",
     "output_type": "stream",
     "text": [
      "Successfully installed PyWavelets-1.4.1 htmlmin-0.1.12 imagehash-4.3.0 llvmlite-0.39.1 markdown-3.4.1 missingno-0.5.1 multimethod-1.8 networkx-2.8.6 numba-0.56.2 pandas-profiling-3.3.0 patsy-0.5.2 phik-0.12.2 pydantic-1.9.2 shap-0.41.0 slicer-0.0.7 statsmodels-0.13.2 tangled-up-in-unicode-0.2.0 typing-extensions-4.3.0 visions-0.7.5\r\n",
      "--- Logging error ---\r\n",
      "Traceback (most recent call last):\r\n",
      "  File \"/usr/local/lib/python3.10/dist-packages/pip/_internal/utils/logging.py\", line 177, in emit\r\n",
      "    self.console.print(renderable, overflow=\"ignore\", crop=False, style=style)\r\n",
      "  File \"/usr/local/lib/python3.10/dist-packages/pip/_vendor/rich/console.py\", line 1752, in print\r\n",
      "    extend(render(renderable, render_options))\r\n",
      "  File \"/usr/local/lib/python3.10/dist-packages/pip/_vendor/rich/console.py\", line 1390, in render\r\n",
      "    for render_output in iter_render:\r\n",
      "  File \"/usr/local/lib/python3.10/dist-packages/pip/_internal/utils/logging.py\", line 134, in __rich_console__\r\n",
      "    for line in lines:\r\n",
      "  File \"/usr/local/lib/python3.10/dist-packages/pip/_vendor/rich/segment.py\", line 245, in split_lines\r\n",
      "    for segment in segments:\r\n",
      "  File \"/usr/local/lib/python3.10/dist-packages/pip/_vendor/rich/console.py\", line 1368, in render\r\n",
      "    renderable = rich_cast(renderable)\r\n",
      "  File \"/usr/local/lib/python3.10/dist-packages/pip/_vendor/rich/protocol.py\", line 36, in rich_cast\r\n",
      "    renderable = cast_method()\r\n",
      "  File \"/usr/local/lib/python3.10/dist-packages/pip/_internal/self_outdated_check.py\", line 130, in __rich__\r\n",
      "    pip_cmd = get_best_invocation_for_this_pip()\r\n",
      "  File \"/usr/local/lib/python3.10/dist-packages/pip/_internal/utils/entrypoints.py\", line 58, in get_best_invocation_for_this_pip\r\n",
      "    if found_executable and os.path.samefile(\r\n",
      "  File \"/usr/lib/python3.10/genericpath.py\", line 101, in samefile\r\n",
      "    s2 = os.stat(f2)\r\n",
      "FileNotFoundError: [Errno 2] No such file or directory: '/usr/bin/pip'\r\n",
      "Call stack:\r\n",
      "  File \"/usr/local/bin/pip\", line 8, in <module>\r\n",
      "    sys.exit(main())\r\n",
      "  File \"/usr/local/lib/python3.10/dist-packages/pip/_internal/cli/main.py\", line 70, in main\r\n",
      "    return command.main(cmd_args)\r\n",
      "  File \"/usr/local/lib/python3.10/dist-packages/pip/_internal/cli/base_command.py\", line 101, in main\r\n",
      "    return self._main(args)\r\n",
      "  File \"/usr/local/lib/python3.10/dist-packages/pip/_internal/cli/base_command.py\", line 223, in _main\r\n",
      "    self.handle_pip_version_check(options)\r\n",
      "  File \"/usr/local/lib/python3.10/dist-packages/pip/_internal/cli/req_command.py\", line 148, in handle_pip_version_check\r\n",
      "    pip_self_version_check(session, options)\r\n",
      "  File \"/usr/local/lib/python3.10/dist-packages/pip/_internal/self_outdated_check.py\", line 237, in pip_self_version_check\r\n",
      "    logger.info(\"[present-rich] %s\", upgrade_prompt)\r\n",
      "  File \"/usr/lib/python3.10/logging/__init__.py\", line 1477, in info\r\n",
      "    self._log(INFO, msg, args, **kwargs)\r\n",
      "  File \"/usr/lib/python3.10/logging/__init__.py\", line 1624, in _log\r\n",
      "    self.handle(record)\r\n",
      "  File \"/usr/lib/python3.10/logging/__init__.py\", line 1634, in handle\r\n",
      "    self.callHandlers(record)\r\n",
      "  File \"/usr/lib/python3.10/logging/__init__.py\", line 1696, in callHandlers\r\n",
      "    hdlr.handle(record)\r\n",
      "  File \"/usr/lib/python3.10/logging/__init__.py\", line 968, in handle\r\n",
      "    self.emit(record)\r\n",
      "  File \"/usr/local/lib/python3.10/dist-packages/pip/_internal/utils/logging.py\", line 179, in emit\r\n",
      "    self.handleError(record)\r\n",
      "Message: '[present-rich] %s'\r\n",
      "Arguments: (UpgradePrompt(old='22.1.2', new='22.2.2'),)\r\n"
     ]
    }
   ],
   "source": [
    "!pip install mlflow\n",
    "!pip install mlflow[pipelines]"
   ]
  },
  {
   "cell_type": "code",
   "execution_count": null,
   "id": "f2e52e2f",
   "metadata": {},
   "outputs": [],
   "source": []
  },
  {
   "cell_type": "code",
   "execution_count": 1,
   "id": "f3a0c251",
   "metadata": {},
   "outputs": [],
   "source": [
    "import os\n",
    "import warnings\n",
    "import sys\n",
    "\n",
    "import pandas as pd\n",
    "import numpy as np\n",
    "from urllib.parse import urlparse\n",
    "import mlflow\n",
    "import mlflow.spark\n",
    "\n",
    "import logging"
   ]
  },
  {
   "cell_type": "code",
   "execution_count": 4,
   "id": "68daae14",
   "metadata": {},
   "outputs": [
    {
     "data": {
      "text/plain": [
       "'/media/sf_Public/new BA folder'"
      ]
     },
     "execution_count": 4,
     "metadata": {},
     "output_type": "execute_result"
    }
   ],
   "source": [
    "pwd"
   ]
  },
  {
   "cell_type": "code",
   "execution_count": 2,
   "id": "bf4c1eab",
   "metadata": {},
   "outputs": [
    {
     "name": "stdout",
     "output_type": "stream",
     "text": [
      "22/09/28 13:00:24 WARN Utils: Your hostname, mitch-VirtualBox resolves to a loopback address: 127.0.1.1; using 10.0.2.15 instead (on interface enp0s3)\n",
      "22/09/28 13:00:24 WARN Utils: Set SPARK_LOCAL_IP if you need to bind to another address\n"
     ]
    },
    {
     "name": "stderr",
     "output_type": "stream",
     "text": [
      "Setting default log level to \"WARN\".\n",
      "To adjust logging level use sc.setLogLevel(newLevel). For SparkR, use setLogLevel(newLevel).\n"
     ]
    },
    {
     "name": "stdout",
     "output_type": "stream",
     "text": [
      "22/09/28 13:00:25 WARN NativeCodeLoader: Unable to load native-hadoop library for your platform... using builtin-java classes where applicable\n"
     ]
    },
    {
     "name": "stderr",
     "output_type": "stream",
     "text": [
      "2022/09/28 13:00:37 WARNING mlflow.utils.git_utils: Failed to import Git (the Git executable is probably not on your PATH), so Git SHA is not available. Error: Failed to initialize: Bad git executable.\n",
      "The git executable must be specified in one of the following ways:\n",
      "    - be included in your $PATH\n",
      "    - be set via $GIT_PYTHON_GIT_EXECUTABLE\n",
      "    - explicitly set via git.refresh()\n",
      "\n",
      "All git commands will error until this is rectified.\n",
      "\n",
      "This initial warning can be silenced or aggravated in the future by setting the\n",
      "$GIT_PYTHON_REFRESH environment variable. Use one of the following values:\n",
      "    - quiet|q|silence|s|none|n|0: for no warning or exception\n",
      "    - warn|w|warning|1: for a printed warning\n",
      "    - error|e|raise|r|2: for a raised exception\n",
      "\n",
      "Example:\n",
      "    export GIT_PYTHON_REFRESH=quiet\n",
      "\n",
      "                                                                                \r"
     ]
    },
    {
     "name": "stdout",
     "output_type": "stream",
     "text": [
      "{'features1b': {'rmse': 29.69856204412145, 'mse': 882.0045874885311, 'mae': 24.530167714520694, 'r2': 0.17122732305243815, 'var': 289.6250314281525}}\n"
     ]
    }
   ],
   "source": [
    "%run -i mlflow_MLtrial2_script.py 'features_3'"
   ]
  },
  {
   "cell_type": "code",
   "execution_count": 41,
   "id": "5020525f",
   "metadata": {},
   "outputs": [
    {
     "name": "stdout",
     "output_type": "stream",
     "text": [
      "{'features1b': {'rmse': 29.944549844901992, 'mse': 896.67606541382, 'mae': 24.84927994969607, 'r2': 0.14382096148966372, 'var': 324.2773290281045}}\n",
      "{'features1b': {'rmse': 28.236021836512762, 'mse': 797.2729291520255, 'mae': 23.51951430298947, 'r2': 0.23295914725526456, 'var': 329.6833775411797}}\n",
      "{'features1b': {'rmse': 28.8456375068844, 'mse': 832.070803178576, 'mae': 24.036483629855077, 'r2': 0.22404198251656338, 'var': 346.6913163716803}}\n",
      "{'features1b': {'rmse': 31.222718428745154, 'mse': 974.8581460807022, 'mae': 26.06151925605875, 'r2': 0.11027937238141472, 'var': 304.31804590515}}\n",
      "{'features1b': {'rmse': 29.52183179249938, 'mse': 871.5385523846272, 'mae': 24.405361342111224, 'r2': 0.19685666331827945, 'var': 309.7433167173821}}\n",
      "{'features1b': {'rmse': 29.808880488461092, 'mse': 888.5693559753563, 'mae': 24.96375044638692, 'r2': 0.1521262559331804, 'var': 290.9308396340327}}\n"
     ]
    },
    {
     "name": "stderr",
     "output_type": "stream",
     "text": [
      "                                                                                \r"
     ]
    },
    {
     "name": "stdout",
     "output_type": "stream",
     "text": [
      "{'features1b': {'rmse': 30.45035014956716, 'mse': 927.2238242312449, 'mae': 25.66195310588011, 'r2': 0.1692315320974327, 'var': 331.76179684637674}}\n",
      "{'features1b': {'rmse': 29.854808579053227, 'mse': 891.3095952919102, 'mae': 24.67950798661716, 'r2': 0.16177970827126265, 'var': 295.5947178910565}}\n",
      "{'features1b': {'rmse': 29.73596891727389, 'mse': 884.2278474490789, 'mae': 25.05277141652874, 'r2': 0.2036097764558138, 'var': 286.047644178252}}\n"
     ]
    }
   ],
   "source": [
    "''' # Attempt to iteratively call the trial script\n",
    "# ... for some reason, this didn't work... it always executed as 'features1b', which is set as default arg\n",
    "'''\n",
    "\n",
    "feature_sets = {'features1a','features1b',\n",
    "                'features2a','features2b',\n",
    "                'features3','features4a','features4b',\n",
    "                'F1bANOVA','F2bANOVA'}\n",
    "\n",
    "for each_set in feature_sets:\n",
    "    %run -i mlflow_MLtrial2_script.py each_set"
   ]
  },
  {
   "cell_type": "markdown",
   "id": "d801e2ea",
   "metadata": {},
   "source": [
    "to view the MLflow logs:\n",
    "* in terminal, navigate to pwd and enter: `mlflow ui`\n",
    "* in browser, visit: `http://localhost:5000/`"
   ]
  },
  {
   "cell_type": "code",
   "execution_count": 3,
   "id": "158d7321",
   "metadata": {},
   "outputs": [
    {
     "name": "stdout",
     "output_type": "stream",
     "text": [
      "{'features1b': {'rmse': 29.8582391612242, 'mse': 891.5144458088625, 'mae': 24.629942766010124, 'r2': 0.1548172092925546, 'var': 298.054998343176}}\n"
     ]
    }
   ],
   "source": [
    "%run mlflow_MLtrial2_script.py 'features_1bANOVA'"
   ]
  },
  {
   "cell_type": "code",
   "execution_count": null,
   "id": "656d87a7",
   "metadata": {},
   "outputs": [],
   "source": []
  }
 ],
 "metadata": {
  "kernelspec": {
   "display_name": "Python 3 (ipykernel)",
   "language": "python",
   "name": "python3"
  },
  "language_info": {
   "codemirror_mode": {
    "name": "ipython",
    "version": 3
   },
   "file_extension": ".py",
   "mimetype": "text/x-python",
   "name": "python",
   "nbconvert_exporter": "python",
   "pygments_lexer": "ipython3",
   "version": "3.10.4"
  }
 },
 "nbformat": 4,
 "nbformat_minor": 5
}
